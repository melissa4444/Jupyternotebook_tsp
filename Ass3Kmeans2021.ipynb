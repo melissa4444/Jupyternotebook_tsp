{
 "cells": [
  {
   "cell_type": "markdown",
   "metadata": {},
   "source": [
    "# Assignment 3: Exploring K-means"
   ]
  },
  {
   "cell_type": "markdown",
   "metadata": {},
   "source": [
    "Let us suppose we have a set *S* of data points in the plane. We wish to group the points into compact clusters, such that the points in each cluster are close to one another but farther from the points in the other clusters. One common formulation of the clustering problem is as follows: Given set *S* of points and an integer *k*, determine a set of *k* cluster centers in the plane such that the sum of\n",
    "the squared Euclidean distance of each point from its nearest cluster center is minimized. The resulting set of clusters is called a *partition* of S. These ideas generalize to any dimension but we shall work in the plane."
   ]
  },
  {
   "cell_type": "markdown",
   "metadata": {},
   "source": [
    "*K-means* is a common and efficient heuristic for clustering. K-means iteratively computes a set of *k* points (called *centers*) that implicitly represents\n",
    "a partition. Given any set *Z* of centers, each center *z* in *Z* has a neighborhood defined as the set of data points that are\n",
    "closer to *z* than to any other center in *Z.* K-means starts with a set *Z* of centers and computes their neighborhoods. In successive iterations, every center is moved to the centroid of its neighborhood and then the neighborhoods are recomputed based on the updated positions of the *k* centers. When neighborhoods are recomputed, data points will shift from one neighborhood to a different neighborhood if they are closer to the latter neighborhood's center. This process of moving centers and recomputing neighborhoods continues iteratively until some convergence criterion is satisfied, typically when two successive iterations produce\n",
    "no changes to any of the *k* neighborhoods. The collection of neighborhoods that results is taken to be the partition of the data points produced by k-means applied to the initial set of centers. The [wikipedia article](http://en.wikipedia.org/wiki/K-means_clustering) is helpful for learning more."
   ]
  },
  {
   "cell_type": "code",
   "execution_count": 1,
   "metadata": {},
   "outputs": [],
   "source": [
    "%matplotlib inline\n",
    "import numpy as np\n",
    "import matplotlib.pyplot as plt\n",
    "import pandas as pd\n",
    "\n",
    "import matplotlib.cm as cm\n",
    "import matplotlib.colors as colors"
   ]
  },
  {
   "cell_type": "markdown",
   "metadata": {},
   "source": [
    "We will run k-means on data files obtained from [TSPLIB](https://www.iwr.uni-heidelberg.de/groups/comopt/software/TSPLIB95/). You can pull files from this site but I'll provide you with some. Here is what the file att48.tsp looks like:\n",
    "\n",
    "NAME : att48  \n",
    "COMMENT : 48 capitals of the US (Padberg/Rinaldi)  \n",
    "TYPE : TSP  \n",
    "DIMENSION : 48  \n",
    "EDGE_WEIGHT_TYPE : ATT    \n",
    "NODE_COORD_SECTION  \n",
    "1 6734 1453  \n",
    "2 2233 10  \n",
    "3 5530 1424  \n",
    "4 401 841  \n",
    "5 3082 1644  \n",
    "...  *<more lines for further points>*   \n",
    "45 10 2676  \n",
    "46 6807 2993  \n",
    "47 5185 3258  \n",
    "48 3023 1942  \n",
    "EOF\n"
   ]
  },
  {
   "cell_type": "markdown",
   "metadata": {},
   "source": [
    "### Exercise 1"
   ]
  },
  {
   "cell_type": "markdown",
   "metadata": {},
   "source": [
    "The list of points appears after the keyword NODE_COORD_SECTION. Your first task is to write a function that inputs the name of a TSP file and returns a numpy array, of shape (nbrPoints, 2), of its points."
   ]
  },
  {
   "cell_type": "code",
   "execution_count": 2,
   "metadata": {},
   "outputs": [],
   "source": [
    "def loadFromTSP(filename):\n",
    "    \"\"\" Inputs the TSP file named by filename, and returns a (nbrPoints,2)\n",
    "    numpy array of the data points.\"\"\"\n",
    "    pass  # your code goes here"
   ]
  },
  {
   "cell_type": "markdown",
   "metadata": {},
   "source": [
    "For example:\n",
    "\n",
    "```python\n",
    "data = loadFromTSP('data/att48.tsp')  \n",
    "print('Nbr of data points: {}'.format(len(data)))\n",
    "print('First five data points:\\n {}'.format(data[:5]))\n",
    "```\n",
    "\n",
    "```\n",
    "Nbr of data points: 48\n",
    "First five data points:\n",
    " [[ 6734.  1453.]\n",
    " [ 2233.    10.]\n",
    " [ 5530.  1424.]\n",
    " [  401.   841.]\n",
    " [ 3082.  1644.]]\n",
    " ```"
   ]
  },
  {
   "cell_type": "markdown",
   "metadata": {},
   "source": [
    "Python's scientific module, SciPy, includes a routine for running k-means. Specifically, it's a method in the clustering and vector quantization module, scipy.cluster.vq."
   ]
  },
  {
   "cell_type": "code",
   "execution_count": 3,
   "metadata": {},
   "outputs": [],
   "source": [
    "import scipy.cluster.vq as vq"
   ]
  },
  {
   "cell_type": "markdown",
   "metadata": {},
   "source": [
    "K-means is called like this:  \n",
    "\n",
    "```python\n",
    "centroids, labels = vq.kmeans2(data, k, minit='points')\n",
    "```\n",
    "  \n",
    "Here *data* is a two-dimensional numpy array with the shape (nbrPoints, 2), and *k* is the number of clusters we seek. The keyword argument *minit* specifies the initialization routine. By giving it the value 'points', we're saying that the initial set of *k* centers should be *k* points of *data*, chosen at random.\n",
    "\n",
    "The function call returns a tuple ```(centroids, labels)```. Here, ```centroids``` is an array of *k* centroids (centers), one for each of the *k* clusters. ```labels``` is an integer array of length *nbrPoints* which indicates the cluster to which each of the data points belongs: Data points ```i``` belongs to cluster ```labels[i]``` where the labels are integers in the range 0, 1,..., *k*-1.\n",
    "\n",
    "Here's a simple example of its use.\n"
   ]
  },
  {
   "cell_type": "code",
   "execution_count": 4,
   "metadata": {},
   "outputs": [
    {
     "data": {
      "text/plain": [
       "array([[ 0.,  0.],\n",
       "       [ 0.,  1.],\n",
       "       [ 1.,  0.],\n",
       "       [ 1.,  1.],\n",
       "       [10., 10.],\n",
       "       [10., 11.],\n",
       "       [11., 10.],\n",
       "       [11., 11.]], dtype=float32)"
      ]
     },
     "execution_count": 4,
     "metadata": {},
     "output_type": "execute_result"
    }
   ],
   "source": [
    "aa = np.array([0,0,0,1,1,0,1,1], dtype=np.float32).reshape(4,2)\n",
    "ab = np.concatenate((aa, aa+10))\n",
    "ab"
   ]
  },
  {
   "cell_type": "code",
   "execution_count": 5,
   "metadata": {},
   "outputs": [
    {
     "data": {
      "text/plain": [
       "(array([[10.5, 10.5],\n",
       "        [ 0.5,  0.5]], dtype=float32),\n",
       " array([1, 1, 1, 1, 0, 0, 0, 0], dtype=int32))"
      ]
     },
     "execution_count": 5,
     "metadata": {},
     "output_type": "execute_result"
    }
   ],
   "source": [
    "centroids, labels = vq.kmeans2(ab, 2, minit='points')\n",
    "centroids, labels"
   ]
  },
  {
   "cell_type": "markdown",
   "metadata": {},
   "source": [
    "The output tuple (centroids,labels) are interpreted together. Here it says that the first four points of the array belong to cluster 0 whose centroid is (0.5, 0.5), and the last four points belong to cluster 1 whose centroid is (10.5, 10.5). This is of course optimal for this simple problem instance but optimality is not guaranteed by k-means in general; k-means is just a heuristic.\n",
    "\n",
    "Here are the images that result from a run of k-means on att48.tsp, for the values k=3 (i.e., 3 clusters) and k=5."
   ]
  },
  {
   "cell_type": "markdown",
   "metadata": {},
   "source": [
    "<img src=\"http://scis.nova.edu/~mjl/visimages/att48k3.png\">\n",
    "<br/>\n",
    "<img src=\"http://scis.nova.edu/~mjl/visimages/att48k5.png\">"
   ]
  },
  {
   "cell_type": "markdown",
   "metadata": {},
   "source": [
    "### Exercise 2"
   ]
  },
  {
   "cell_type": "markdown",
   "metadata": {},
   "source": [
    "Each data point, depicted as a disk, is assigned its own cluster, indicated by color. Also, each cluster's centroid is depicted as a square of the same color. The second part of this assignment is to write a function that takes a data set (i.e., a numpy array of points) and the (centroids,labels) tuple that results from running k-means on this data set, and produces scatterplots like those above above, where each cluster gets a distinct color, and each cluster's centroid is also depicted."
   ]
  },
  {
   "cell_type": "code",
   "execution_count": 1,
   "metadata": {},
   "outputs": [],
   "source": [
    "def scatterplotOfClusters(data, centroids, labels, cmap_name='gist_rainbow'):\n",
    "    \"\"\" Takes a numpy array of data points, an array of k centroids,\n",
    "    and an array of len(data) labels assigning points to centroids (clusters),\n",
    "    and produces a scatterplot. \n",
    "    aHere, we have:\n",
    "    centroids, labels = vq.kmeans2(data, k, minit='points')\n",
    "    to produce a list of k centroids and assignments to the datapoints.\n",
    "    Colors are drawn from cmap_name by interpolation.\"\"\"\n",
    "    pass  # your code goes here\n"
   ]
  },
  {
   "cell_type": "markdown",
   "metadata": {},
   "source": [
    "For example:\n",
    "\n",
    "```python\n",
    "data = loadFromTSP('data/att48.tsp')  \n",
    "centroids, labels = vq.kmeans2(data, 8, minit='points')\n",
    "scatterplotOfClusters(data, centroids, labels)\n",
    "```\n",
    "\n",
    "<img src=\"http://scis.nova.edu/~mjl/visimages/att48k8.png\">"
   ]
  },
  {
   "cell_type": "markdown",
   "metadata": {},
   "source": [
    "The larger the value of *k*, the more clusters there are in the partition, and the tighter these clusters are. In effect, with more clusters, the centroids are better representatives of the dataset as a whole. There are a number of ways of capturing the quality of a partition. Here is one way. We define the *average within-cluster sum of squared distances*, to be the average of the sum of squared distances between the cluster's points and its centroid. Let's refer to this as *WCSS(C)* for cluster C. Then, we'll take the partition quality to be the average over the *WCSS(C)* as *C* ranges over the partition's clusters *C*.\n",
    "\n",
    "We can use the following function to compute the quality of a partition for the dataset *data*, where the partition is represented by the arguments *centroids* and *labels*."
   ]
  },
  {
   "cell_type": "code",
   "execution_count": 7,
   "metadata": {},
   "outputs": [],
   "source": [
    "def avgWithinSS(data, centroids, labels):\n",
    "    k = len(centroids)\n",
    "    res = 0.0\n",
    "    for c in range(k):\n",
    "        flags = labels == c\n",
    "        pointsInC = data[flags]\n",
    "        def d2(p):\n",
    "            delta = p - centroids[c]\n",
    "            return sum(delta*delta)\n",
    "        dists = np.apply_along_axis(d2, axis=1, arr=pointsInC)\n",
    "        res += sum(dists) / len(pointsInC)\n",
    "    return res / k\n"
   ]
  },
  {
   "cell_type": "markdown",
   "metadata": {},
   "source": [
    "When we run *avgWithinSS*, we obtain a partition quality value for *k*=len(centroids). Let's call this value *PQ(k)*. We can use the following function to generate an array of *PQ(k)* values as *k* ranges from 1 through *kmax*, where we choose *kmax* to be some integer no greater than the number of data points."
   ]
  },
  {
   "cell_type": "code",
   "execution_count": 8,
   "metadata": {},
   "outputs": [],
   "source": [
    "def avgWithinSSOverK(data, kmax):\n",
    "    def f(k):\n",
    "        return vq.kmeans2(data, k, minit='points')\n",
    "    return [avgWithinSS(data, *f(k)) for k in range(1, kmax+1)]\n"
   ]
  },
  {
   "cell_type": "markdown",
   "metadata": {},
   "source": [
    "Here we plot the partition quality values as *k* ranges from 1 through 24 for att48.tsp. Notice that the quality generally improves as *k* increases, but not always. Note k-means is run once for each value of *k*. Remember, for each value of *k*, k-means runs from a random set of *k* points. Sometimes it will converge to an excellent solution, and other times not so great a solution. On average, partition quality improves with greater *k*, but for particular runs of k-means this may not always be so.\n",
    "<br/>\n",
    "<img src=\"http://scis.nova.edu/~mjl/visimages/attAVS1.png\">"
   ]
  },
  {
   "cell_type": "markdown",
   "metadata": {},
   "source": [
    "### Exercise 3"
   ]
  },
  {
   "cell_type": "markdown",
   "metadata": {},
   "source": [
    "The next part of this assignment is to write code to produce the sort of graph we have above. The graph above was produced by calling *plotWithinSS(avgWithinSSOverK(data, 24))* where *data* is the numpy array of data points from att48.tsp."
   ]
  },
  {
   "cell_type": "code",
   "execution_count": 9,
   "metadata": {},
   "outputs": [],
   "source": [
    "def plotWithinSS(avgWithinSS, **kwargs):\n",
    "    \"\"\" Takes an array of partition quality values, as produced by the calls\n",
    "          avgWithinSSOverK(data, kmax)\n",
    "        and produces a line plot of partition size by partition quality\"\"\"\n",
    "    pass   # your code goes here\n",
    "    "
   ]
  },
  {
   "cell_type": "markdown",
   "metadata": {},
   "source": [
    "Here is the last part of this assignment. We recognize that the solutions produced by k-means are sensitive to the initial set of centers. Each time we run *vq.kmeans2(data, k, minit='points')* for the same *data* and value of *k*, we may obtain different results. This is because the *k* points used for the initial centers are chosen randomly. Here is the histogram of 2000 runs of k-means on *att48.tsp*, for *k*=8. The x-axis shows the *avgWithinSS*. Each bar corresponds to a bin indicating the number of runs whose *avgWithinSS* falls within the bin."
   ]
  },
  {
   "cell_type": "markdown",
   "metadata": {},
   "source": [
    "<img src=\"http://scis.nova.edu/~mjl/visimages/hist.att48B.png\">"
   ]
  },
  {
   "cell_type": "markdown",
   "metadata": {},
   "source": [
    "### Exercise 4"
   ]
  },
  {
   "cell_type": "markdown",
   "metadata": {},
   "source": [
    "The histogram above was generated with this call:  *plotMultipleRuns(data, 8, 40, 2000, facecolor='green')*.  For this part of the assignment, write this function."
   ]
  },
  {
   "cell_type": "code",
   "execution_count": 10,
   "metadata": {},
   "outputs": [
    {
     "ename": "IndentationError",
     "evalue": "unexpected indent (<ipython-input-10-af6d8b32b302>, line 4)",
     "output_type": "error",
     "traceback": [
      "\u001b[0;36m  File \u001b[0;32m\"<ipython-input-10-af6d8b32b302>\"\u001b[0;36m, line \u001b[0;32m4\u001b[0m\n\u001b[0;31m    pass\u001b[0m\n\u001b[0m    ^\u001b[0m\n\u001b[0;31mIndentationError\u001b[0m\u001b[0;31m:\u001b[0m unexpected indent\n"
     ]
    }
   ],
   "source": [
    "def plotMultipleRuns(data, k, bins=20, nbrRuns=200, **kwargs):\n",
    "  \"\"\" Create a histogram for data by running vq.kmeans2(data, k, minit='points')\n",
    "      nbrRuns times for given k. **kwargs gets passed onto the histogram function.\"\"\"\n",
    "    pass"
   ]
  },
  {
   "cell_type": "markdown",
   "metadata": {},
   "source": [
    "It's worth mentioning that when we run k-means with input *k*, we sometimes obtain a partition with strictly fewer than *k* clusters. In generating the partitions in plotMultipleRuns, you might want to omit such clusters. Look into the use of the *missing* parameter of the *vq.kmeans2* function."
   ]
  },
  {
   "cell_type": "markdown",
   "metadata": {},
   "source": [
    "### For submission"
   ]
  },
  {
   "cell_type": "markdown",
   "metadata": {},
   "source": [
    "Please submit an IPython notebook containing your code solutions. You may modify this notebook or write your own notebook from scratch. As a reminder, there are four functions to be defined for this assignment:  \n",
    "\n",
    "* ```loadFromTSP(filename)```\n",
    "* ```scatterplotOfClusters(data, centroids, labels)```\n",
    "* ```plotWithinSS(avgWithinSS, **kwargs)```\n",
    "* ```plotMultipleRuns(data, k, bins=20, nbrRuns=200, **kwargs)```\n",
    "\n",
    "Of course you're welcome to also define helper functions that assist in the definition of the above four functions.\n",
    "\n",
    "Also, after the due date, you're welcome to post your notebook to the *Assignment 3* forum of our discussion board. **It is most important that you wait until after the due date to post your assignment for your classmates to read.**\n"
   ]
  },
  {
   "cell_type": "code",
   "execution_count": null,
   "metadata": {
    "collapsed": true
   },
   "outputs": [],
   "source": []
  }
 ],
 "metadata": {
  "anaconda-cloud": {},
  "kernelspec": {
   "display_name": "Python 3",
   "language": "python",
   "name": "python3"
  },
  "language_info": {
   "codemirror_mode": {
    "name": "ipython",
    "version": 3
   },
   "file_extension": ".py",
   "mimetype": "text/x-python",
   "name": "python",
   "nbconvert_exporter": "python",
   "pygments_lexer": "ipython3",
   "version": "3.8.8"
  }
 },
 "nbformat": 4,
 "nbformat_minor": 1
}
