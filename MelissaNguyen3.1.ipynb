{
 "cells": [
  {
   "cell_type": "code",
   "execution_count": 14,
   "id": "e8ec88dc",
   "metadata": {},
   "outputs": [],
   "source": [
    "%matplotlib inline\n",
    "import numpy as np\n",
    "import matplotlib.pyplot as plt\n",
    "import pandas as pd\n",
    "import csv\n",
    "import matplotlib.cm as cm\n",
    "import matplotlib.colors as colors"
   ]
  },
  {
   "cell_type": "markdown",
   "id": "552fa72d",
   "metadata": {},
   "source": [
    "* ```loadFromTSP(filename)```\n",
    "* ```scatterplotOfClusters(data, centroids, labels)```\n",
    "* ```plotWithinSS(avgWithinSS, **kwargs)```\n",
    "* ```plotMultipleRuns(data, k, bins=20, nbrRuns=200, **kwargs)```"
   ]
  },
  {
   "cell_type": "markdown",
   "id": "81bbd2c5",
   "metadata": {},
   "source": [
    "### Exercise 1"
   ]
  },
  {
   "cell_type": "markdown",
   "id": "a27f0789",
   "metadata": {},
   "source": [
    "The list of points appears after the keyword NODE_COORD_SECTION. Your first task is to write a function that inputs the name of a TSP file and returns a numpy array, of shape (nbrPoints, 2), of its points."
   ]
  },
  {
   "cell_type": "markdown",
   "id": "431019a0",
   "metadata": {},
   "source": [
    "att48.tsp"
   ]
  },
  {
   "cell_type": "code",
   "execution_count": 193,
   "id": "a5d60a5b",
   "metadata": {},
   "outputs": [
    {
     "name": "stdout",
     "output_type": "stream",
     "text": [
      "Enter TSP file: att48.tsp\n",
      "Opening File att48.tsp for reading\n",
      "\n",
      "object\n",
      "Nbr of data points:\n",
      "48\n",
      "\n",
      "First five data points:  \n",
      "[['1' nan '6734' 1453.0 nan nan nan nan]\n",
      " ['2' nan '2233' 10.0 nan nan nan nan]\n",
      " ['3' nan '5530' 1424.0 nan nan nan nan]\n",
      " ['4' nan '401' nan 841.0 nan nan nan]\n",
      " ['5' nan '3082' 1644.0 nan nan nan nan]]\n",
      "\n",
      "Completed reading the file:  <_io.TextIOWrapper name='att48.tsp' mode='r' encoding='UTF-8'>\n"
     ]
    }
   ],
   "source": [
    "import numpy as np\n",
    "def loadFromTSP(filename):\n",
    "    # \"\"\" Inputs the TSP file named by filename, and returns a (nbrPoints,2)\n",
    "    # numpy array of the data points.\"\"\"    \n",
    "    return np.filename(df_array, usecols =(2,3), delimiter='', skip_header=5)\n",
    "\n",
    "\n",
    "filename = input(\"Enter TSP file: \")\n",
    "inputfile = open(filename, \"r\")\n",
    "    \n",
    "print(\"Opening File\", filename, \"for reading\\n\" )\n",
    "line = filename.readline()\n",
    "\n",
    "\n",
    "df = pd.read_csv(inputfile, sep =' ')\n",
    "# turns data frame of df into array\n",
    "nbrPoints = np.asarray(df)\n",
    "\n",
    "\n",
    "#read file att48.tsp\n",
    "#print('inputfile info\\n:', inputfile)\n",
    "print(nbrPoints.dtype)\n",
    "\n",
    "print('Nbr of data points:\\n{}'.format(len(nbrPoints[5:])))\n",
    "\n",
    "print(\"\\nFirst five data points:  \\n{}\".format(nbrPoints[4:9]))\n",
    "\n",
    "\n",
    "\n",
    "print(\"\\nCompleted reading the file: \", inputfile)\n",
    "   \n",
    "#print(\"df: \\n\",df)\n",
    "\n",
    "\n"
   ]
  },
  {
   "cell_type": "code",
   "execution_count": 93,
   "id": "a4753896",
   "metadata": {},
   "outputs": [
    {
     "name": "stdout",
     "output_type": "stream",
     "text": [
      "<function loadFromTSP at 0x7fadaef5da60>\n"
     ]
    },
    {
     "ename": "TypeError",
     "evalue": "'list' object is not callable",
     "output_type": "error",
     "traceback": [
      "\u001b[0;31m---------------------------------------------------------------------------\u001b[0m",
      "\u001b[0;31mTypeError\u001b[0m                                 Traceback (most recent call last)",
      "\u001b[0;32m<ipython-input-93-fdcd7ec94981>\u001b[0m in \u001b[0;36m<module>\u001b[0;34m\u001b[0m\n\u001b[1;32m      1\u001b[0m \u001b[0mprint\u001b[0m\u001b[0;34m(\u001b[0m\u001b[0mloadFromTSP\u001b[0m\u001b[0;34m)\u001b[0m\u001b[0;34m\u001b[0m\u001b[0;34m\u001b[0m\u001b[0m\n\u001b[1;32m      2\u001b[0m \u001b[0mloadFromTSP\u001b[0m \u001b[0;34m=\u001b[0m\u001b[0;34m[\u001b[0m\u001b[0mdf\u001b[0m\u001b[0;34m]\u001b[0m\u001b[0;34m\u001b[0m\u001b[0;34m\u001b[0m\u001b[0m\n\u001b[0;32m----> 3\u001b[0;31m \u001b[0mloadFromTSP\u001b[0m\u001b[0;34m(\u001b[0m\u001b[0mdf\u001b[0m\u001b[0;34m)\u001b[0m\u001b[0;34m\u001b[0m\u001b[0;34m\u001b[0m\u001b[0m\n\u001b[0m",
      "\u001b[0;31mTypeError\u001b[0m: 'list' object is not callable"
     ]
    }
   ],
   "source": [
    "print(loadFromTSP)\n",
    "nbrPoints = numpy.array()\n"
   ]
  },
  {
   "cell_type": "code",
   "execution_count": 50,
   "id": "63f5bd92",
   "metadata": {},
   "outputs": [
    {
     "name": "stdout",
     "output_type": "stream",
     "text": [
      "['NAME : att48\\n']\n",
      "['NAME : att48\\n', 'COMMENT : 48 capitals of the US (Padberg/Rinaldi)\\n']\n",
      "['NAME : att48\\n', 'COMMENT : 48 capitals of the US (Padberg/Rinaldi)\\n', 'TYPE : TSP\\n']\n",
      "['NAME : att48\\n', 'COMMENT : 48 capitals of the US (Padberg/Rinaldi)\\n', 'TYPE : TSP\\n', 'DIMENSION : 48\\n']\n",
      "['NAME : att48\\n', 'COMMENT : 48 capitals of the US (Padberg/Rinaldi)\\n', 'TYPE : TSP\\n', 'DIMENSION : 48\\n', 'EDGE_WEIGHT_TYPE : ATT\\n']\n",
      "['NAME : att48\\n', 'COMMENT : 48 capitals of the US (Padberg/Rinaldi)\\n', 'TYPE : TSP\\n', 'DIMENSION : 48\\n', 'EDGE_WEIGHT_TYPE : ATT\\n', 'NODE_COORD_SECTION\\n']\n",
      "['NAME : att48\\n', 'COMMENT : 48 capitals of the US (Padberg/Rinaldi)\\n', 'TYPE : TSP\\n', 'DIMENSION : 48\\n', 'EDGE_WEIGHT_TYPE : ATT\\n', 'NODE_COORD_SECTION\\n', '1 6734 1453\\n']\n",
      "['NAME : att48\\n', 'COMMENT : 48 capitals of the US (Padberg/Rinaldi)\\n', 'TYPE : TSP\\n', 'DIMENSION : 48\\n', 'EDGE_WEIGHT_TYPE : ATT\\n', 'NODE_COORD_SECTION\\n', '1 6734 1453\\n', '2 2233 10\\n']\n",
      "['NAME : att48\\n', 'COMMENT : 48 capitals of the US (Padberg/Rinaldi)\\n', 'TYPE : TSP\\n', 'DIMENSION : 48\\n', 'EDGE_WEIGHT_TYPE : ATT\\n', 'NODE_COORD_SECTION\\n', '1 6734 1453\\n', '2 2233 10\\n', '3 5530 1424\\n']\n",
      "['NAME : att48\\n', 'COMMENT : 48 capitals of the US (Padberg/Rinaldi)\\n', 'TYPE : TSP\\n', 'DIMENSION : 48\\n', 'EDGE_WEIGHT_TYPE : ATT\\n', 'NODE_COORD_SECTION\\n', '1 6734 1453\\n', '2 2233 10\\n', '3 5530 1424\\n', '4 401 841\\n']\n",
      "['NAME : att48\\n', 'COMMENT : 48 capitals of the US (Padberg/Rinaldi)\\n', 'TYPE : TSP\\n', 'DIMENSION : 48\\n', 'EDGE_WEIGHT_TYPE : ATT\\n', 'NODE_COORD_SECTION\\n', '1 6734 1453\\n', '2 2233 10\\n', '3 5530 1424\\n', '4 401 841\\n', '5 3082 1644\\n']\n",
      "['NAME : att48\\n', 'COMMENT : 48 capitals of the US (Padberg/Rinaldi)\\n', 'TYPE : TSP\\n', 'DIMENSION : 48\\n', 'EDGE_WEIGHT_TYPE : ATT\\n', 'NODE_COORD_SECTION\\n', '1 6734 1453\\n', '2 2233 10\\n', '3 5530 1424\\n', '4 401 841\\n', '5 3082 1644\\n', '6 7608 4458\\n']\n",
      "['NAME : att48\\n', 'COMMENT : 48 capitals of the US (Padberg/Rinaldi)\\n', 'TYPE : TSP\\n', 'DIMENSION : 48\\n', 'EDGE_WEIGHT_TYPE : ATT\\n', 'NODE_COORD_SECTION\\n', '1 6734 1453\\n', '2 2233 10\\n', '3 5530 1424\\n', '4 401 841\\n', '5 3082 1644\\n', '6 7608 4458\\n', '7 7573 3716\\n']\n",
      "['NAME : att48\\n', 'COMMENT : 48 capitals of the US (Padberg/Rinaldi)\\n', 'TYPE : TSP\\n', 'DIMENSION : 48\\n', 'EDGE_WEIGHT_TYPE : ATT\\n', 'NODE_COORD_SECTION\\n', '1 6734 1453\\n', '2 2233 10\\n', '3 5530 1424\\n', '4 401 841\\n', '5 3082 1644\\n', '6 7608 4458\\n', '7 7573 3716\\n', '8 7265 1268\\n']\n",
      "['NAME : att48\\n', 'COMMENT : 48 capitals of the US (Padberg/Rinaldi)\\n', 'TYPE : TSP\\n', 'DIMENSION : 48\\n', 'EDGE_WEIGHT_TYPE : ATT\\n', 'NODE_COORD_SECTION\\n', '1 6734 1453\\n', '2 2233 10\\n', '3 5530 1424\\n', '4 401 841\\n', '5 3082 1644\\n', '6 7608 4458\\n', '7 7573 3716\\n', '8 7265 1268\\n', '9 6898 1885\\n']\n",
      "['NAME : att48\\n', 'COMMENT : 48 capitals of the US (Padberg/Rinaldi)\\n', 'TYPE : TSP\\n', 'DIMENSION : 48\\n', 'EDGE_WEIGHT_TYPE : ATT\\n', 'NODE_COORD_SECTION\\n', '1 6734 1453\\n', '2 2233 10\\n', '3 5530 1424\\n', '4 401 841\\n', '5 3082 1644\\n', '6 7608 4458\\n', '7 7573 3716\\n', '8 7265 1268\\n', '9 6898 1885\\n', '10 1112 2049\\n']\n",
      "['NAME : att48\\n', 'COMMENT : 48 capitals of the US (Padberg/Rinaldi)\\n', 'TYPE : TSP\\n', 'DIMENSION : 48\\n', 'EDGE_WEIGHT_TYPE : ATT\\n', 'NODE_COORD_SECTION\\n', '1 6734 1453\\n', '2 2233 10\\n', '3 5530 1424\\n', '4 401 841\\n', '5 3082 1644\\n', '6 7608 4458\\n', '7 7573 3716\\n', '8 7265 1268\\n', '9 6898 1885\\n', '10 1112 2049\\n', '11 5468 2606\\n']\n",
      "['NAME : att48\\n', 'COMMENT : 48 capitals of the US (Padberg/Rinaldi)\\n', 'TYPE : TSP\\n', 'DIMENSION : 48\\n', 'EDGE_WEIGHT_TYPE : ATT\\n', 'NODE_COORD_SECTION\\n', '1 6734 1453\\n', '2 2233 10\\n', '3 5530 1424\\n', '4 401 841\\n', '5 3082 1644\\n', '6 7608 4458\\n', '7 7573 3716\\n', '8 7265 1268\\n', '9 6898 1885\\n', '10 1112 2049\\n', '11 5468 2606\\n', '12 5989 2873\\n']\n",
      "['NAME : att48\\n', 'COMMENT : 48 capitals of the US (Padberg/Rinaldi)\\n', 'TYPE : TSP\\n', 'DIMENSION : 48\\n', 'EDGE_WEIGHT_TYPE : ATT\\n', 'NODE_COORD_SECTION\\n', '1 6734 1453\\n', '2 2233 10\\n', '3 5530 1424\\n', '4 401 841\\n', '5 3082 1644\\n', '6 7608 4458\\n', '7 7573 3716\\n', '8 7265 1268\\n', '9 6898 1885\\n', '10 1112 2049\\n', '11 5468 2606\\n', '12 5989 2873\\n', '13 4706 2674\\n']\n",
      "['NAME : att48\\n', 'COMMENT : 48 capitals of the US (Padberg/Rinaldi)\\n', 'TYPE : TSP\\n', 'DIMENSION : 48\\n', 'EDGE_WEIGHT_TYPE : ATT\\n', 'NODE_COORD_SECTION\\n', '1 6734 1453\\n', '2 2233 10\\n', '3 5530 1424\\n', '4 401 841\\n', '5 3082 1644\\n', '6 7608 4458\\n', '7 7573 3716\\n', '8 7265 1268\\n', '9 6898 1885\\n', '10 1112 2049\\n', '11 5468 2606\\n', '12 5989 2873\\n', '13 4706 2674\\n', '14 4612 2035\\n']\n",
      "['NAME : att48\\n', 'COMMENT : 48 capitals of the US (Padberg/Rinaldi)\\n', 'TYPE : TSP\\n', 'DIMENSION : 48\\n', 'EDGE_WEIGHT_TYPE : ATT\\n', 'NODE_COORD_SECTION\\n', '1 6734 1453\\n', '2 2233 10\\n', '3 5530 1424\\n', '4 401 841\\n', '5 3082 1644\\n', '6 7608 4458\\n', '7 7573 3716\\n', '8 7265 1268\\n', '9 6898 1885\\n', '10 1112 2049\\n', '11 5468 2606\\n', '12 5989 2873\\n', '13 4706 2674\\n', '14 4612 2035\\n', '15 6347 2683\\n']\n",
      "['NAME : att48\\n', 'COMMENT : 48 capitals of the US (Padberg/Rinaldi)\\n', 'TYPE : TSP\\n', 'DIMENSION : 48\\n', 'EDGE_WEIGHT_TYPE : ATT\\n', 'NODE_COORD_SECTION\\n', '1 6734 1453\\n', '2 2233 10\\n', '3 5530 1424\\n', '4 401 841\\n', '5 3082 1644\\n', '6 7608 4458\\n', '7 7573 3716\\n', '8 7265 1268\\n', '9 6898 1885\\n', '10 1112 2049\\n', '11 5468 2606\\n', '12 5989 2873\\n', '13 4706 2674\\n', '14 4612 2035\\n', '15 6347 2683\\n', '16 6107 669\\n']\n",
      "['NAME : att48\\n', 'COMMENT : 48 capitals of the US (Padberg/Rinaldi)\\n', 'TYPE : TSP\\n', 'DIMENSION : 48\\n', 'EDGE_WEIGHT_TYPE : ATT\\n', 'NODE_COORD_SECTION\\n', '1 6734 1453\\n', '2 2233 10\\n', '3 5530 1424\\n', '4 401 841\\n', '5 3082 1644\\n', '6 7608 4458\\n', '7 7573 3716\\n', '8 7265 1268\\n', '9 6898 1885\\n', '10 1112 2049\\n', '11 5468 2606\\n', '12 5989 2873\\n', '13 4706 2674\\n', '14 4612 2035\\n', '15 6347 2683\\n', '16 6107 669\\n', '17 7611 5184\\n']\n",
      "['NAME : att48\\n', 'COMMENT : 48 capitals of the US (Padberg/Rinaldi)\\n', 'TYPE : TSP\\n', 'DIMENSION : 48\\n', 'EDGE_WEIGHT_TYPE : ATT\\n', 'NODE_COORD_SECTION\\n', '1 6734 1453\\n', '2 2233 10\\n', '3 5530 1424\\n', '4 401 841\\n', '5 3082 1644\\n', '6 7608 4458\\n', '7 7573 3716\\n', '8 7265 1268\\n', '9 6898 1885\\n', '10 1112 2049\\n', '11 5468 2606\\n', '12 5989 2873\\n', '13 4706 2674\\n', '14 4612 2035\\n', '15 6347 2683\\n', '16 6107 669\\n', '17 7611 5184\\n', '18 7462 3590\\n']\n",
      "['NAME : att48\\n', 'COMMENT : 48 capitals of the US (Padberg/Rinaldi)\\n', 'TYPE : TSP\\n', 'DIMENSION : 48\\n', 'EDGE_WEIGHT_TYPE : ATT\\n', 'NODE_COORD_SECTION\\n', '1 6734 1453\\n', '2 2233 10\\n', '3 5530 1424\\n', '4 401 841\\n', '5 3082 1644\\n', '6 7608 4458\\n', '7 7573 3716\\n', '8 7265 1268\\n', '9 6898 1885\\n', '10 1112 2049\\n', '11 5468 2606\\n', '12 5989 2873\\n', '13 4706 2674\\n', '14 4612 2035\\n', '15 6347 2683\\n', '16 6107 669\\n', '17 7611 5184\\n', '18 7462 3590\\n', '19 7732 4723\\n']\n",
      "['NAME : att48\\n', 'COMMENT : 48 capitals of the US (Padberg/Rinaldi)\\n', 'TYPE : TSP\\n', 'DIMENSION : 48\\n', 'EDGE_WEIGHT_TYPE : ATT\\n', 'NODE_COORD_SECTION\\n', '1 6734 1453\\n', '2 2233 10\\n', '3 5530 1424\\n', '4 401 841\\n', '5 3082 1644\\n', '6 7608 4458\\n', '7 7573 3716\\n', '8 7265 1268\\n', '9 6898 1885\\n', '10 1112 2049\\n', '11 5468 2606\\n', '12 5989 2873\\n', '13 4706 2674\\n', '14 4612 2035\\n', '15 6347 2683\\n', '16 6107 669\\n', '17 7611 5184\\n', '18 7462 3590\\n', '19 7732 4723\\n', '20 5900 3561\\n']\n",
      "['NAME : att48\\n', 'COMMENT : 48 capitals of the US (Padberg/Rinaldi)\\n', 'TYPE : TSP\\n', 'DIMENSION : 48\\n', 'EDGE_WEIGHT_TYPE : ATT\\n', 'NODE_COORD_SECTION\\n', '1 6734 1453\\n', '2 2233 10\\n', '3 5530 1424\\n', '4 401 841\\n', '5 3082 1644\\n', '6 7608 4458\\n', '7 7573 3716\\n', '8 7265 1268\\n', '9 6898 1885\\n', '10 1112 2049\\n', '11 5468 2606\\n', '12 5989 2873\\n', '13 4706 2674\\n', '14 4612 2035\\n', '15 6347 2683\\n', '16 6107 669\\n', '17 7611 5184\\n', '18 7462 3590\\n', '19 7732 4723\\n', '20 5900 3561\\n', '21 4483 3369\\n']\n",
      "['NAME : att48\\n', 'COMMENT : 48 capitals of the US (Padberg/Rinaldi)\\n', 'TYPE : TSP\\n', 'DIMENSION : 48\\n', 'EDGE_WEIGHT_TYPE : ATT\\n', 'NODE_COORD_SECTION\\n', '1 6734 1453\\n', '2 2233 10\\n', '3 5530 1424\\n', '4 401 841\\n', '5 3082 1644\\n', '6 7608 4458\\n', '7 7573 3716\\n', '8 7265 1268\\n', '9 6898 1885\\n', '10 1112 2049\\n', '11 5468 2606\\n', '12 5989 2873\\n', '13 4706 2674\\n', '14 4612 2035\\n', '15 6347 2683\\n', '16 6107 669\\n', '17 7611 5184\\n', '18 7462 3590\\n', '19 7732 4723\\n', '20 5900 3561\\n', '21 4483 3369\\n', '22 6101 1110\\n']\n",
      "['NAME : att48\\n', 'COMMENT : 48 capitals of the US (Padberg/Rinaldi)\\n', 'TYPE : TSP\\n', 'DIMENSION : 48\\n', 'EDGE_WEIGHT_TYPE : ATT\\n', 'NODE_COORD_SECTION\\n', '1 6734 1453\\n', '2 2233 10\\n', '3 5530 1424\\n', '4 401 841\\n', '5 3082 1644\\n', '6 7608 4458\\n', '7 7573 3716\\n', '8 7265 1268\\n', '9 6898 1885\\n', '10 1112 2049\\n', '11 5468 2606\\n', '12 5989 2873\\n', '13 4706 2674\\n', '14 4612 2035\\n', '15 6347 2683\\n', '16 6107 669\\n', '17 7611 5184\\n', '18 7462 3590\\n', '19 7732 4723\\n', '20 5900 3561\\n', '21 4483 3369\\n', '22 6101 1110\\n', '23 5199 2182\\n']\n",
      "['NAME : att48\\n', 'COMMENT : 48 capitals of the US (Padberg/Rinaldi)\\n', 'TYPE : TSP\\n', 'DIMENSION : 48\\n', 'EDGE_WEIGHT_TYPE : ATT\\n', 'NODE_COORD_SECTION\\n', '1 6734 1453\\n', '2 2233 10\\n', '3 5530 1424\\n', '4 401 841\\n', '5 3082 1644\\n', '6 7608 4458\\n', '7 7573 3716\\n', '8 7265 1268\\n', '9 6898 1885\\n', '10 1112 2049\\n', '11 5468 2606\\n', '12 5989 2873\\n', '13 4706 2674\\n', '14 4612 2035\\n', '15 6347 2683\\n', '16 6107 669\\n', '17 7611 5184\\n', '18 7462 3590\\n', '19 7732 4723\\n', '20 5900 3561\\n', '21 4483 3369\\n', '22 6101 1110\\n', '23 5199 2182\\n', '24 1633 2809\\n']\n",
      "['NAME : att48\\n', 'COMMENT : 48 capitals of the US (Padberg/Rinaldi)\\n', 'TYPE : TSP\\n', 'DIMENSION : 48\\n', 'EDGE_WEIGHT_TYPE : ATT\\n', 'NODE_COORD_SECTION\\n', '1 6734 1453\\n', '2 2233 10\\n', '3 5530 1424\\n', '4 401 841\\n', '5 3082 1644\\n', '6 7608 4458\\n', '7 7573 3716\\n', '8 7265 1268\\n', '9 6898 1885\\n', '10 1112 2049\\n', '11 5468 2606\\n', '12 5989 2873\\n', '13 4706 2674\\n', '14 4612 2035\\n', '15 6347 2683\\n', '16 6107 669\\n', '17 7611 5184\\n', '18 7462 3590\\n', '19 7732 4723\\n', '20 5900 3561\\n', '21 4483 3369\\n', '22 6101 1110\\n', '23 5199 2182\\n', '24 1633 2809\\n', '25 4307 2322\\n']\n",
      "['NAME : att48\\n', 'COMMENT : 48 capitals of the US (Padberg/Rinaldi)\\n', 'TYPE : TSP\\n', 'DIMENSION : 48\\n', 'EDGE_WEIGHT_TYPE : ATT\\n', 'NODE_COORD_SECTION\\n', '1 6734 1453\\n', '2 2233 10\\n', '3 5530 1424\\n', '4 401 841\\n', '5 3082 1644\\n', '6 7608 4458\\n', '7 7573 3716\\n', '8 7265 1268\\n', '9 6898 1885\\n', '10 1112 2049\\n', '11 5468 2606\\n', '12 5989 2873\\n', '13 4706 2674\\n', '14 4612 2035\\n', '15 6347 2683\\n', '16 6107 669\\n', '17 7611 5184\\n', '18 7462 3590\\n', '19 7732 4723\\n', '20 5900 3561\\n', '21 4483 3369\\n', '22 6101 1110\\n', '23 5199 2182\\n', '24 1633 2809\\n', '25 4307 2322\\n', '26 675 1006\\n']\n",
      "['NAME : att48\\n', 'COMMENT : 48 capitals of the US (Padberg/Rinaldi)\\n', 'TYPE : TSP\\n', 'DIMENSION : 48\\n', 'EDGE_WEIGHT_TYPE : ATT\\n', 'NODE_COORD_SECTION\\n', '1 6734 1453\\n', '2 2233 10\\n', '3 5530 1424\\n', '4 401 841\\n', '5 3082 1644\\n', '6 7608 4458\\n', '7 7573 3716\\n', '8 7265 1268\\n', '9 6898 1885\\n', '10 1112 2049\\n', '11 5468 2606\\n', '12 5989 2873\\n', '13 4706 2674\\n', '14 4612 2035\\n', '15 6347 2683\\n', '16 6107 669\\n', '17 7611 5184\\n', '18 7462 3590\\n', '19 7732 4723\\n', '20 5900 3561\\n', '21 4483 3369\\n', '22 6101 1110\\n', '23 5199 2182\\n', '24 1633 2809\\n', '25 4307 2322\\n', '26 675 1006\\n', '27 7555 4819\\n']\n",
      "['NAME : att48\\n', 'COMMENT : 48 capitals of the US (Padberg/Rinaldi)\\n', 'TYPE : TSP\\n', 'DIMENSION : 48\\n', 'EDGE_WEIGHT_TYPE : ATT\\n', 'NODE_COORD_SECTION\\n', '1 6734 1453\\n', '2 2233 10\\n', '3 5530 1424\\n', '4 401 841\\n', '5 3082 1644\\n', '6 7608 4458\\n', '7 7573 3716\\n', '8 7265 1268\\n', '9 6898 1885\\n', '10 1112 2049\\n', '11 5468 2606\\n', '12 5989 2873\\n', '13 4706 2674\\n', '14 4612 2035\\n', '15 6347 2683\\n', '16 6107 669\\n', '17 7611 5184\\n', '18 7462 3590\\n', '19 7732 4723\\n', '20 5900 3561\\n', '21 4483 3369\\n', '22 6101 1110\\n', '23 5199 2182\\n', '24 1633 2809\\n', '25 4307 2322\\n', '26 675 1006\\n', '27 7555 4819\\n', '28 7541 3981\\n']\n",
      "['NAME : att48\\n', 'COMMENT : 48 capitals of the US (Padberg/Rinaldi)\\n', 'TYPE : TSP\\n', 'DIMENSION : 48\\n', 'EDGE_WEIGHT_TYPE : ATT\\n', 'NODE_COORD_SECTION\\n', '1 6734 1453\\n', '2 2233 10\\n', '3 5530 1424\\n', '4 401 841\\n', '5 3082 1644\\n', '6 7608 4458\\n', '7 7573 3716\\n', '8 7265 1268\\n', '9 6898 1885\\n', '10 1112 2049\\n', '11 5468 2606\\n', '12 5989 2873\\n', '13 4706 2674\\n', '14 4612 2035\\n', '15 6347 2683\\n', '16 6107 669\\n', '17 7611 5184\\n', '18 7462 3590\\n', '19 7732 4723\\n', '20 5900 3561\\n', '21 4483 3369\\n', '22 6101 1110\\n', '23 5199 2182\\n', '24 1633 2809\\n', '25 4307 2322\\n', '26 675 1006\\n', '27 7555 4819\\n', '28 7541 3981\\n', '29 3177 756\\n']\n",
      "['NAME : att48\\n', 'COMMENT : 48 capitals of the US (Padberg/Rinaldi)\\n', 'TYPE : TSP\\n', 'DIMENSION : 48\\n', 'EDGE_WEIGHT_TYPE : ATT\\n', 'NODE_COORD_SECTION\\n', '1 6734 1453\\n', '2 2233 10\\n', '3 5530 1424\\n', '4 401 841\\n', '5 3082 1644\\n', '6 7608 4458\\n', '7 7573 3716\\n', '8 7265 1268\\n', '9 6898 1885\\n', '10 1112 2049\\n', '11 5468 2606\\n', '12 5989 2873\\n', '13 4706 2674\\n', '14 4612 2035\\n', '15 6347 2683\\n', '16 6107 669\\n', '17 7611 5184\\n', '18 7462 3590\\n', '19 7732 4723\\n', '20 5900 3561\\n', '21 4483 3369\\n', '22 6101 1110\\n', '23 5199 2182\\n', '24 1633 2809\\n', '25 4307 2322\\n', '26 675 1006\\n', '27 7555 4819\\n', '28 7541 3981\\n', '29 3177 756\\n', '30 7352 4506\\n']\n",
      "['NAME : att48\\n', 'COMMENT : 48 capitals of the US (Padberg/Rinaldi)\\n', 'TYPE : TSP\\n', 'DIMENSION : 48\\n', 'EDGE_WEIGHT_TYPE : ATT\\n', 'NODE_COORD_SECTION\\n', '1 6734 1453\\n', '2 2233 10\\n', '3 5530 1424\\n', '4 401 841\\n', '5 3082 1644\\n', '6 7608 4458\\n', '7 7573 3716\\n', '8 7265 1268\\n', '9 6898 1885\\n', '10 1112 2049\\n', '11 5468 2606\\n', '12 5989 2873\\n', '13 4706 2674\\n', '14 4612 2035\\n', '15 6347 2683\\n', '16 6107 669\\n', '17 7611 5184\\n', '18 7462 3590\\n', '19 7732 4723\\n', '20 5900 3561\\n', '21 4483 3369\\n', '22 6101 1110\\n', '23 5199 2182\\n', '24 1633 2809\\n', '25 4307 2322\\n', '26 675 1006\\n', '27 7555 4819\\n', '28 7541 3981\\n', '29 3177 756\\n', '30 7352 4506\\n', '31 7545 2801\\n']\n",
      "['NAME : att48\\n', 'COMMENT : 48 capitals of the US (Padberg/Rinaldi)\\n', 'TYPE : TSP\\n', 'DIMENSION : 48\\n', 'EDGE_WEIGHT_TYPE : ATT\\n', 'NODE_COORD_SECTION\\n', '1 6734 1453\\n', '2 2233 10\\n', '3 5530 1424\\n', '4 401 841\\n', '5 3082 1644\\n', '6 7608 4458\\n', '7 7573 3716\\n', '8 7265 1268\\n', '9 6898 1885\\n', '10 1112 2049\\n', '11 5468 2606\\n', '12 5989 2873\\n', '13 4706 2674\\n', '14 4612 2035\\n', '15 6347 2683\\n', '16 6107 669\\n', '17 7611 5184\\n', '18 7462 3590\\n', '19 7732 4723\\n', '20 5900 3561\\n', '21 4483 3369\\n', '22 6101 1110\\n', '23 5199 2182\\n', '24 1633 2809\\n', '25 4307 2322\\n', '26 675 1006\\n', '27 7555 4819\\n', '28 7541 3981\\n', '29 3177 756\\n', '30 7352 4506\\n', '31 7545 2801\\n', '32 3245 3305\\n']\n",
      "['NAME : att48\\n', 'COMMENT : 48 capitals of the US (Padberg/Rinaldi)\\n', 'TYPE : TSP\\n', 'DIMENSION : 48\\n', 'EDGE_WEIGHT_TYPE : ATT\\n', 'NODE_COORD_SECTION\\n', '1 6734 1453\\n', '2 2233 10\\n', '3 5530 1424\\n', '4 401 841\\n', '5 3082 1644\\n', '6 7608 4458\\n', '7 7573 3716\\n', '8 7265 1268\\n', '9 6898 1885\\n', '10 1112 2049\\n', '11 5468 2606\\n', '12 5989 2873\\n', '13 4706 2674\\n', '14 4612 2035\\n', '15 6347 2683\\n', '16 6107 669\\n', '17 7611 5184\\n', '18 7462 3590\\n', '19 7732 4723\\n', '20 5900 3561\\n', '21 4483 3369\\n', '22 6101 1110\\n', '23 5199 2182\\n', '24 1633 2809\\n', '25 4307 2322\\n', '26 675 1006\\n', '27 7555 4819\\n', '28 7541 3981\\n', '29 3177 756\\n', '30 7352 4506\\n', '31 7545 2801\\n', '32 3245 3305\\n', '33 6426 3173\\n']\n",
      "['NAME : att48\\n', 'COMMENT : 48 capitals of the US (Padberg/Rinaldi)\\n', 'TYPE : TSP\\n', 'DIMENSION : 48\\n', 'EDGE_WEIGHT_TYPE : ATT\\n', 'NODE_COORD_SECTION\\n', '1 6734 1453\\n', '2 2233 10\\n', '3 5530 1424\\n', '4 401 841\\n', '5 3082 1644\\n', '6 7608 4458\\n', '7 7573 3716\\n', '8 7265 1268\\n', '9 6898 1885\\n', '10 1112 2049\\n', '11 5468 2606\\n', '12 5989 2873\\n', '13 4706 2674\\n', '14 4612 2035\\n', '15 6347 2683\\n', '16 6107 669\\n', '17 7611 5184\\n', '18 7462 3590\\n', '19 7732 4723\\n', '20 5900 3561\\n', '21 4483 3369\\n', '22 6101 1110\\n', '23 5199 2182\\n', '24 1633 2809\\n', '25 4307 2322\\n', '26 675 1006\\n', '27 7555 4819\\n', '28 7541 3981\\n', '29 3177 756\\n', '30 7352 4506\\n', '31 7545 2801\\n', '32 3245 3305\\n', '33 6426 3173\\n', '34 4608 1198\\n']\n",
      "['NAME : att48\\n', 'COMMENT : 48 capitals of the US (Padberg/Rinaldi)\\n', 'TYPE : TSP\\n', 'DIMENSION : 48\\n', 'EDGE_WEIGHT_TYPE : ATT\\n', 'NODE_COORD_SECTION\\n', '1 6734 1453\\n', '2 2233 10\\n', '3 5530 1424\\n', '4 401 841\\n', '5 3082 1644\\n', '6 7608 4458\\n', '7 7573 3716\\n', '8 7265 1268\\n', '9 6898 1885\\n', '10 1112 2049\\n', '11 5468 2606\\n', '12 5989 2873\\n', '13 4706 2674\\n', '14 4612 2035\\n', '15 6347 2683\\n', '16 6107 669\\n', '17 7611 5184\\n', '18 7462 3590\\n', '19 7732 4723\\n', '20 5900 3561\\n', '21 4483 3369\\n', '22 6101 1110\\n', '23 5199 2182\\n', '24 1633 2809\\n', '25 4307 2322\\n', '26 675 1006\\n', '27 7555 4819\\n', '28 7541 3981\\n', '29 3177 756\\n', '30 7352 4506\\n', '31 7545 2801\\n', '32 3245 3305\\n', '33 6426 3173\\n', '34 4608 1198\\n', '35 23 2216\\n']\n",
      "['NAME : att48\\n', 'COMMENT : 48 capitals of the US (Padberg/Rinaldi)\\n', 'TYPE : TSP\\n', 'DIMENSION : 48\\n', 'EDGE_WEIGHT_TYPE : ATT\\n', 'NODE_COORD_SECTION\\n', '1 6734 1453\\n', '2 2233 10\\n', '3 5530 1424\\n', '4 401 841\\n', '5 3082 1644\\n', '6 7608 4458\\n', '7 7573 3716\\n', '8 7265 1268\\n', '9 6898 1885\\n', '10 1112 2049\\n', '11 5468 2606\\n', '12 5989 2873\\n', '13 4706 2674\\n', '14 4612 2035\\n', '15 6347 2683\\n', '16 6107 669\\n', '17 7611 5184\\n', '18 7462 3590\\n', '19 7732 4723\\n', '20 5900 3561\\n', '21 4483 3369\\n', '22 6101 1110\\n', '23 5199 2182\\n', '24 1633 2809\\n', '25 4307 2322\\n', '26 675 1006\\n', '27 7555 4819\\n', '28 7541 3981\\n', '29 3177 756\\n', '30 7352 4506\\n', '31 7545 2801\\n', '32 3245 3305\\n', '33 6426 3173\\n', '34 4608 1198\\n', '35 23 2216\\n', '36 7248 3779\\n']\n",
      "['NAME : att48\\n', 'COMMENT : 48 capitals of the US (Padberg/Rinaldi)\\n', 'TYPE : TSP\\n', 'DIMENSION : 48\\n', 'EDGE_WEIGHT_TYPE : ATT\\n', 'NODE_COORD_SECTION\\n', '1 6734 1453\\n', '2 2233 10\\n', '3 5530 1424\\n', '4 401 841\\n', '5 3082 1644\\n', '6 7608 4458\\n', '7 7573 3716\\n', '8 7265 1268\\n', '9 6898 1885\\n', '10 1112 2049\\n', '11 5468 2606\\n', '12 5989 2873\\n', '13 4706 2674\\n', '14 4612 2035\\n', '15 6347 2683\\n', '16 6107 669\\n', '17 7611 5184\\n', '18 7462 3590\\n', '19 7732 4723\\n', '20 5900 3561\\n', '21 4483 3369\\n', '22 6101 1110\\n', '23 5199 2182\\n', '24 1633 2809\\n', '25 4307 2322\\n', '26 675 1006\\n', '27 7555 4819\\n', '28 7541 3981\\n', '29 3177 756\\n', '30 7352 4506\\n', '31 7545 2801\\n', '32 3245 3305\\n', '33 6426 3173\\n', '34 4608 1198\\n', '35 23 2216\\n', '36 7248 3779\\n', '37 7762 4595\\n']\n",
      "['NAME : att48\\n', 'COMMENT : 48 capitals of the US (Padberg/Rinaldi)\\n', 'TYPE : TSP\\n', 'DIMENSION : 48\\n', 'EDGE_WEIGHT_TYPE : ATT\\n', 'NODE_COORD_SECTION\\n', '1 6734 1453\\n', '2 2233 10\\n', '3 5530 1424\\n', '4 401 841\\n', '5 3082 1644\\n', '6 7608 4458\\n', '7 7573 3716\\n', '8 7265 1268\\n', '9 6898 1885\\n', '10 1112 2049\\n', '11 5468 2606\\n', '12 5989 2873\\n', '13 4706 2674\\n', '14 4612 2035\\n', '15 6347 2683\\n', '16 6107 669\\n', '17 7611 5184\\n', '18 7462 3590\\n', '19 7732 4723\\n', '20 5900 3561\\n', '21 4483 3369\\n', '22 6101 1110\\n', '23 5199 2182\\n', '24 1633 2809\\n', '25 4307 2322\\n', '26 675 1006\\n', '27 7555 4819\\n', '28 7541 3981\\n', '29 3177 756\\n', '30 7352 4506\\n', '31 7545 2801\\n', '32 3245 3305\\n', '33 6426 3173\\n', '34 4608 1198\\n', '35 23 2216\\n', '36 7248 3779\\n', '37 7762 4595\\n', '38 7392 2244\\n']\n",
      "['NAME : att48\\n', 'COMMENT : 48 capitals of the US (Padberg/Rinaldi)\\n', 'TYPE : TSP\\n', 'DIMENSION : 48\\n', 'EDGE_WEIGHT_TYPE : ATT\\n', 'NODE_COORD_SECTION\\n', '1 6734 1453\\n', '2 2233 10\\n', '3 5530 1424\\n', '4 401 841\\n', '5 3082 1644\\n', '6 7608 4458\\n', '7 7573 3716\\n', '8 7265 1268\\n', '9 6898 1885\\n', '10 1112 2049\\n', '11 5468 2606\\n', '12 5989 2873\\n', '13 4706 2674\\n', '14 4612 2035\\n', '15 6347 2683\\n', '16 6107 669\\n', '17 7611 5184\\n', '18 7462 3590\\n', '19 7732 4723\\n', '20 5900 3561\\n', '21 4483 3369\\n', '22 6101 1110\\n', '23 5199 2182\\n', '24 1633 2809\\n', '25 4307 2322\\n', '26 675 1006\\n', '27 7555 4819\\n', '28 7541 3981\\n', '29 3177 756\\n', '30 7352 4506\\n', '31 7545 2801\\n', '32 3245 3305\\n', '33 6426 3173\\n', '34 4608 1198\\n', '35 23 2216\\n', '36 7248 3779\\n', '37 7762 4595\\n', '38 7392 2244\\n', '39 3484 2829\\n']\n",
      "['NAME : att48\\n', 'COMMENT : 48 capitals of the US (Padberg/Rinaldi)\\n', 'TYPE : TSP\\n', 'DIMENSION : 48\\n', 'EDGE_WEIGHT_TYPE : ATT\\n', 'NODE_COORD_SECTION\\n', '1 6734 1453\\n', '2 2233 10\\n', '3 5530 1424\\n', '4 401 841\\n', '5 3082 1644\\n', '6 7608 4458\\n', '7 7573 3716\\n', '8 7265 1268\\n', '9 6898 1885\\n', '10 1112 2049\\n', '11 5468 2606\\n', '12 5989 2873\\n', '13 4706 2674\\n', '14 4612 2035\\n', '15 6347 2683\\n', '16 6107 669\\n', '17 7611 5184\\n', '18 7462 3590\\n', '19 7732 4723\\n', '20 5900 3561\\n', '21 4483 3369\\n', '22 6101 1110\\n', '23 5199 2182\\n', '24 1633 2809\\n', '25 4307 2322\\n', '26 675 1006\\n', '27 7555 4819\\n', '28 7541 3981\\n', '29 3177 756\\n', '30 7352 4506\\n', '31 7545 2801\\n', '32 3245 3305\\n', '33 6426 3173\\n', '34 4608 1198\\n', '35 23 2216\\n', '36 7248 3779\\n', '37 7762 4595\\n', '38 7392 2244\\n', '39 3484 2829\\n', '40 6271 2135\\n']\n",
      "['NAME : att48\\n', 'COMMENT : 48 capitals of the US (Padberg/Rinaldi)\\n', 'TYPE : TSP\\n', 'DIMENSION : 48\\n', 'EDGE_WEIGHT_TYPE : ATT\\n', 'NODE_COORD_SECTION\\n', '1 6734 1453\\n', '2 2233 10\\n', '3 5530 1424\\n', '4 401 841\\n', '5 3082 1644\\n', '6 7608 4458\\n', '7 7573 3716\\n', '8 7265 1268\\n', '9 6898 1885\\n', '10 1112 2049\\n', '11 5468 2606\\n', '12 5989 2873\\n', '13 4706 2674\\n', '14 4612 2035\\n', '15 6347 2683\\n', '16 6107 669\\n', '17 7611 5184\\n', '18 7462 3590\\n', '19 7732 4723\\n', '20 5900 3561\\n', '21 4483 3369\\n', '22 6101 1110\\n', '23 5199 2182\\n', '24 1633 2809\\n', '25 4307 2322\\n', '26 675 1006\\n', '27 7555 4819\\n', '28 7541 3981\\n', '29 3177 756\\n', '30 7352 4506\\n', '31 7545 2801\\n', '32 3245 3305\\n', '33 6426 3173\\n', '34 4608 1198\\n', '35 23 2216\\n', '36 7248 3779\\n', '37 7762 4595\\n', '38 7392 2244\\n', '39 3484 2829\\n', '40 6271 2135\\n', '41 4985 140\\n']\n",
      "['NAME : att48\\n', 'COMMENT : 48 capitals of the US (Padberg/Rinaldi)\\n', 'TYPE : TSP\\n', 'DIMENSION : 48\\n', 'EDGE_WEIGHT_TYPE : ATT\\n', 'NODE_COORD_SECTION\\n', '1 6734 1453\\n', '2 2233 10\\n', '3 5530 1424\\n', '4 401 841\\n', '5 3082 1644\\n', '6 7608 4458\\n', '7 7573 3716\\n', '8 7265 1268\\n', '9 6898 1885\\n', '10 1112 2049\\n', '11 5468 2606\\n', '12 5989 2873\\n', '13 4706 2674\\n', '14 4612 2035\\n', '15 6347 2683\\n', '16 6107 669\\n', '17 7611 5184\\n', '18 7462 3590\\n', '19 7732 4723\\n', '20 5900 3561\\n', '21 4483 3369\\n', '22 6101 1110\\n', '23 5199 2182\\n', '24 1633 2809\\n', '25 4307 2322\\n', '26 675 1006\\n', '27 7555 4819\\n', '28 7541 3981\\n', '29 3177 756\\n', '30 7352 4506\\n', '31 7545 2801\\n', '32 3245 3305\\n', '33 6426 3173\\n', '34 4608 1198\\n', '35 23 2216\\n', '36 7248 3779\\n', '37 7762 4595\\n', '38 7392 2244\\n', '39 3484 2829\\n', '40 6271 2135\\n', '41 4985 140\\n', '42 1916 1569\\n']\n",
      "['NAME : att48\\n', 'COMMENT : 48 capitals of the US (Padberg/Rinaldi)\\n', 'TYPE : TSP\\n', 'DIMENSION : 48\\n', 'EDGE_WEIGHT_TYPE : ATT\\n', 'NODE_COORD_SECTION\\n', '1 6734 1453\\n', '2 2233 10\\n', '3 5530 1424\\n', '4 401 841\\n', '5 3082 1644\\n', '6 7608 4458\\n', '7 7573 3716\\n', '8 7265 1268\\n', '9 6898 1885\\n', '10 1112 2049\\n', '11 5468 2606\\n', '12 5989 2873\\n', '13 4706 2674\\n', '14 4612 2035\\n', '15 6347 2683\\n', '16 6107 669\\n', '17 7611 5184\\n', '18 7462 3590\\n', '19 7732 4723\\n', '20 5900 3561\\n', '21 4483 3369\\n', '22 6101 1110\\n', '23 5199 2182\\n', '24 1633 2809\\n', '25 4307 2322\\n', '26 675 1006\\n', '27 7555 4819\\n', '28 7541 3981\\n', '29 3177 756\\n', '30 7352 4506\\n', '31 7545 2801\\n', '32 3245 3305\\n', '33 6426 3173\\n', '34 4608 1198\\n', '35 23 2216\\n', '36 7248 3779\\n', '37 7762 4595\\n', '38 7392 2244\\n', '39 3484 2829\\n', '40 6271 2135\\n', '41 4985 140\\n', '42 1916 1569\\n', '43 7280 4899\\n']\n",
      "['NAME : att48\\n', 'COMMENT : 48 capitals of the US (Padberg/Rinaldi)\\n', 'TYPE : TSP\\n', 'DIMENSION : 48\\n', 'EDGE_WEIGHT_TYPE : ATT\\n', 'NODE_COORD_SECTION\\n', '1 6734 1453\\n', '2 2233 10\\n', '3 5530 1424\\n', '4 401 841\\n', '5 3082 1644\\n', '6 7608 4458\\n', '7 7573 3716\\n', '8 7265 1268\\n', '9 6898 1885\\n', '10 1112 2049\\n', '11 5468 2606\\n', '12 5989 2873\\n', '13 4706 2674\\n', '14 4612 2035\\n', '15 6347 2683\\n', '16 6107 669\\n', '17 7611 5184\\n', '18 7462 3590\\n', '19 7732 4723\\n', '20 5900 3561\\n', '21 4483 3369\\n', '22 6101 1110\\n', '23 5199 2182\\n', '24 1633 2809\\n', '25 4307 2322\\n', '26 675 1006\\n', '27 7555 4819\\n', '28 7541 3981\\n', '29 3177 756\\n', '30 7352 4506\\n', '31 7545 2801\\n', '32 3245 3305\\n', '33 6426 3173\\n', '34 4608 1198\\n', '35 23 2216\\n', '36 7248 3779\\n', '37 7762 4595\\n', '38 7392 2244\\n', '39 3484 2829\\n', '40 6271 2135\\n', '41 4985 140\\n', '42 1916 1569\\n', '43 7280 4899\\n', '44 7509 3239\\n']\n",
      "['NAME : att48\\n', 'COMMENT : 48 capitals of the US (Padberg/Rinaldi)\\n', 'TYPE : TSP\\n', 'DIMENSION : 48\\n', 'EDGE_WEIGHT_TYPE : ATT\\n', 'NODE_COORD_SECTION\\n', '1 6734 1453\\n', '2 2233 10\\n', '3 5530 1424\\n', '4 401 841\\n', '5 3082 1644\\n', '6 7608 4458\\n', '7 7573 3716\\n', '8 7265 1268\\n', '9 6898 1885\\n', '10 1112 2049\\n', '11 5468 2606\\n', '12 5989 2873\\n', '13 4706 2674\\n', '14 4612 2035\\n', '15 6347 2683\\n', '16 6107 669\\n', '17 7611 5184\\n', '18 7462 3590\\n', '19 7732 4723\\n', '20 5900 3561\\n', '21 4483 3369\\n', '22 6101 1110\\n', '23 5199 2182\\n', '24 1633 2809\\n', '25 4307 2322\\n', '26 675 1006\\n', '27 7555 4819\\n', '28 7541 3981\\n', '29 3177 756\\n', '30 7352 4506\\n', '31 7545 2801\\n', '32 3245 3305\\n', '33 6426 3173\\n', '34 4608 1198\\n', '35 23 2216\\n', '36 7248 3779\\n', '37 7762 4595\\n', '38 7392 2244\\n', '39 3484 2829\\n', '40 6271 2135\\n', '41 4985 140\\n', '42 1916 1569\\n', '43 7280 4899\\n', '44 7509 3239\\n', '45 10 2676\\n']\n",
      "['NAME : att48\\n', 'COMMENT : 48 capitals of the US (Padberg/Rinaldi)\\n', 'TYPE : TSP\\n', 'DIMENSION : 48\\n', 'EDGE_WEIGHT_TYPE : ATT\\n', 'NODE_COORD_SECTION\\n', '1 6734 1453\\n', '2 2233 10\\n', '3 5530 1424\\n', '4 401 841\\n', '5 3082 1644\\n', '6 7608 4458\\n', '7 7573 3716\\n', '8 7265 1268\\n', '9 6898 1885\\n', '10 1112 2049\\n', '11 5468 2606\\n', '12 5989 2873\\n', '13 4706 2674\\n', '14 4612 2035\\n', '15 6347 2683\\n', '16 6107 669\\n', '17 7611 5184\\n', '18 7462 3590\\n', '19 7732 4723\\n', '20 5900 3561\\n', '21 4483 3369\\n', '22 6101 1110\\n', '23 5199 2182\\n', '24 1633 2809\\n', '25 4307 2322\\n', '26 675 1006\\n', '27 7555 4819\\n', '28 7541 3981\\n', '29 3177 756\\n', '30 7352 4506\\n', '31 7545 2801\\n', '32 3245 3305\\n', '33 6426 3173\\n', '34 4608 1198\\n', '35 23 2216\\n', '36 7248 3779\\n', '37 7762 4595\\n', '38 7392 2244\\n', '39 3484 2829\\n', '40 6271 2135\\n', '41 4985 140\\n', '42 1916 1569\\n', '43 7280 4899\\n', '44 7509 3239\\n', '45 10 2676\\n', '46 6807 2993\\n']\n",
      "['NAME : att48\\n', 'COMMENT : 48 capitals of the US (Padberg/Rinaldi)\\n', 'TYPE : TSP\\n', 'DIMENSION : 48\\n', 'EDGE_WEIGHT_TYPE : ATT\\n', 'NODE_COORD_SECTION\\n', '1 6734 1453\\n', '2 2233 10\\n', '3 5530 1424\\n', '4 401 841\\n', '5 3082 1644\\n', '6 7608 4458\\n', '7 7573 3716\\n', '8 7265 1268\\n', '9 6898 1885\\n', '10 1112 2049\\n', '11 5468 2606\\n', '12 5989 2873\\n', '13 4706 2674\\n', '14 4612 2035\\n', '15 6347 2683\\n', '16 6107 669\\n', '17 7611 5184\\n', '18 7462 3590\\n', '19 7732 4723\\n', '20 5900 3561\\n', '21 4483 3369\\n', '22 6101 1110\\n', '23 5199 2182\\n', '24 1633 2809\\n', '25 4307 2322\\n', '26 675 1006\\n', '27 7555 4819\\n', '28 7541 3981\\n', '29 3177 756\\n', '30 7352 4506\\n', '31 7545 2801\\n', '32 3245 3305\\n', '33 6426 3173\\n', '34 4608 1198\\n', '35 23 2216\\n', '36 7248 3779\\n', '37 7762 4595\\n', '38 7392 2244\\n', '39 3484 2829\\n', '40 6271 2135\\n', '41 4985 140\\n', '42 1916 1569\\n', '43 7280 4899\\n', '44 7509 3239\\n', '45 10 2676\\n', '46 6807 2993\\n', '47 5185 3258\\n']\n",
      "['NAME : att48\\n', 'COMMENT : 48 capitals of the US (Padberg/Rinaldi)\\n', 'TYPE : TSP\\n', 'DIMENSION : 48\\n', 'EDGE_WEIGHT_TYPE : ATT\\n', 'NODE_COORD_SECTION\\n', '1 6734 1453\\n', '2 2233 10\\n', '3 5530 1424\\n', '4 401 841\\n', '5 3082 1644\\n', '6 7608 4458\\n', '7 7573 3716\\n', '8 7265 1268\\n', '9 6898 1885\\n', '10 1112 2049\\n', '11 5468 2606\\n', '12 5989 2873\\n', '13 4706 2674\\n', '14 4612 2035\\n', '15 6347 2683\\n', '16 6107 669\\n', '17 7611 5184\\n', '18 7462 3590\\n', '19 7732 4723\\n', '20 5900 3561\\n', '21 4483 3369\\n', '22 6101 1110\\n', '23 5199 2182\\n', '24 1633 2809\\n', '25 4307 2322\\n', '26 675 1006\\n', '27 7555 4819\\n', '28 7541 3981\\n', '29 3177 756\\n', '30 7352 4506\\n', '31 7545 2801\\n', '32 3245 3305\\n', '33 6426 3173\\n', '34 4608 1198\\n', '35 23 2216\\n', '36 7248 3779\\n', '37 7762 4595\\n', '38 7392 2244\\n', '39 3484 2829\\n', '40 6271 2135\\n', '41 4985 140\\n', '42 1916 1569\\n', '43 7280 4899\\n', '44 7509 3239\\n', '45 10 2676\\n', '46 6807 2993\\n', '47 5185 3258\\n', '48 3023 1942\\n']\n",
      "['NAME : att48\\n', 'COMMENT : 48 capitals of the US (Padberg/Rinaldi)\\n', 'TYPE : TSP\\n', 'DIMENSION : 48\\n', 'EDGE_WEIGHT_TYPE : ATT\\n', 'NODE_COORD_SECTION\\n', '1 6734 1453\\n', '2 2233 10\\n', '3 5530 1424\\n', '4 401 841\\n', '5 3082 1644\\n', '6 7608 4458\\n', '7 7573 3716\\n', '8 7265 1268\\n', '9 6898 1885\\n', '10 1112 2049\\n', '11 5468 2606\\n', '12 5989 2873\\n', '13 4706 2674\\n', '14 4612 2035\\n', '15 6347 2683\\n', '16 6107 669\\n', '17 7611 5184\\n', '18 7462 3590\\n', '19 7732 4723\\n', '20 5900 3561\\n', '21 4483 3369\\n', '22 6101 1110\\n', '23 5199 2182\\n', '24 1633 2809\\n', '25 4307 2322\\n', '26 675 1006\\n', '27 7555 4819\\n', '28 7541 3981\\n', '29 3177 756\\n', '30 7352 4506\\n', '31 7545 2801\\n', '32 3245 3305\\n', '33 6426 3173\\n', '34 4608 1198\\n', '35 23 2216\\n', '36 7248 3779\\n', '37 7762 4595\\n', '38 7392 2244\\n', '39 3484 2829\\n', '40 6271 2135\\n', '41 4985 140\\n', '42 1916 1569\\n', '43 7280 4899\\n', '44 7509 3239\\n', '45 10 2676\\n', '46 6807 2993\\n', '47 5185 3258\\n', '48 3023 1942\\n', 'EOF\\n']\n"
     ]
    }
   ],
   "source": [
    "def file_read(inputfile):\n",
    "    content_array =[]\n",
    "    with open(inputfile) as f:\n",
    "        for line in f:\n",
    "            content_array.append(line)\n",
    "            print(content_array)\n",
    "file_read('att48.tsp')"
   ]
  },
  {
   "cell_type": "code",
   "execution_count": null,
   "id": "14821a81",
   "metadata": {},
   "outputs": [],
   "source": []
  },
  {
   "cell_type": "markdown",
   "id": "90b9f571",
   "metadata": {},
   "source": [
    "### Exercise 2\n",
    "\n"
   ]
  },
  {
   "cell_type": "markdown",
   "id": "e893e15b",
   "metadata": {},
   "source": [
    "The second part of this assignment is to write a function that takes a data set (i.e., a numpy array of points) and the (centroids,labels) tuple that results from running k-means on this data set, and produces scatterplots like those above above, where each cluster gets a distinct color, and each cluster's centroid is also depicted."
   ]
  },
  {
   "cell_type": "code",
   "execution_count": 7,
   "id": "95cac587",
   "metadata": {},
   "outputs": [],
   "source": [
    "def scatterplotOfClusters(data, centroids, labels, cmap_name='gist_rainbow'):\n",
    "    \"\"\" Takes a numpy array of data points, an array of k centroids,\n",
    "    and an array of len(data) labels assigning points to centroids (clusters),\n",
    "    and produces a scatterplot. \n",
    "    aHere, we have:\n",
    "    centroids, labels = vq.kmeans2(data, k, minit='points')\n",
    "    to produce a list of k centroids and assignments to the datapoints.\n",
    "    Colors are drawn from cmap_name by interpolation.\"\"\"\n",
    "    pass  # your code goes here"
   ]
  },
  {
   "cell_type": "markdown",
   "id": "c9b5b56e",
   "metadata": {},
   "source": [
    "For example:\n",
    "\n",
    "```python\n",
    "data = loadFromTSP('data/att48.tsp')  \n",
    "centroids, labels = vq.kmeans2(data, 8, minit='points')\n",
    "scatterplotOfClusters(data, centroids, labels)\n",
    "```\n",
    "\n",
    "img =\"att48k8.png\""
   ]
  },
  {
   "cell_type": "code",
   "execution_count": 10,
   "id": "c3b18782",
   "metadata": {},
   "outputs": [
    {
     "name": "stderr",
     "output_type": "stream",
     "text": [
      "<ipython-input-6-b62b0bd6a0a6>:5: UserWarning: genfromtxt: Empty input file: \"<_io.TextIOWrapper name='att48.tsp' mode='r' encoding='UTF-8'>\"\n",
      "  return np.genfromtxt(filename, usecols =(1), delimiter='', skip_header=6)\n"
     ]
    },
    {
     "ename": "ValueError",
     "evalue": "Empty input is not supported.",
     "output_type": "error",
     "traceback": [
      "\u001b[0;31m---------------------------------------------------------------------------\u001b[0m",
      "\u001b[0;31mValueError\u001b[0m                                Traceback (most recent call last)",
      "\u001b[0;32m<ipython-input-10-ceabad798636>\u001b[0m in \u001b[0;36m<module>\u001b[0;34m\u001b[0m\n\u001b[1;32m      5\u001b[0m \u001b[0mplt\u001b[0m\u001b[0;34m.\u001b[0m\u001b[0mshow\u001b[0m\u001b[0;34m(\u001b[0m\u001b[0;34m)\u001b[0m\u001b[0;34m\u001b[0m\u001b[0;34m\u001b[0m\u001b[0m\n\u001b[1;32m      6\u001b[0m \u001b[0mdata\u001b[0m \u001b[0;34m=\u001b[0m \u001b[0mloadFromTSP\u001b[0m\u001b[0;34m(\u001b[0m\u001b[0minputfile\u001b[0m\u001b[0;34m)\u001b[0m\u001b[0;34m\u001b[0m\u001b[0;34m\u001b[0m\u001b[0m\n\u001b[0;32m----> 7\u001b[0;31m \u001b[0mcentroids\u001b[0m\u001b[0;34m,\u001b[0m \u001b[0mlabels\u001b[0m \u001b[0;34m=\u001b[0m \u001b[0mvq\u001b[0m\u001b[0;34m.\u001b[0m\u001b[0mkmeans2\u001b[0m\u001b[0;34m(\u001b[0m\u001b[0mdata\u001b[0m\u001b[0;34m,\u001b[0m \u001b[0;36m8\u001b[0m\u001b[0;34m,\u001b[0m \u001b[0mminit\u001b[0m\u001b[0;34m=\u001b[0m\u001b[0;34m'points'\u001b[0m\u001b[0;34m)\u001b[0m\u001b[0;34m\u001b[0m\u001b[0;34m\u001b[0m\u001b[0m\n\u001b[0m\u001b[1;32m      8\u001b[0m \u001b[0mscatterplotOfClusters\u001b[0m\u001b[0;34m(\u001b[0m\u001b[0mdata\u001b[0m\u001b[0;34m,\u001b[0m \u001b[0mcentroids\u001b[0m\u001b[0;34m,\u001b[0m \u001b[0mlabels\u001b[0m\u001b[0;34m)\u001b[0m\u001b[0;34m\u001b[0m\u001b[0;34m\u001b[0m\u001b[0m\n",
      "\u001b[0;32m/opt/anaconda3/lib/python3.8/site-packages/scipy/cluster/vq.py\u001b[0m in \u001b[0;36mkmeans2\u001b[0;34m(data, k, iter, thresh, minit, missing, check_finite)\u001b[0m\n\u001b[1;32m    718\u001b[0m \u001b[0;34m\u001b[0m\u001b[0m\n\u001b[1;32m    719\u001b[0m     \u001b[0;32mif\u001b[0m \u001b[0mdata\u001b[0m\u001b[0;34m.\u001b[0m\u001b[0msize\u001b[0m \u001b[0;34m<\u001b[0m \u001b[0;36m1\u001b[0m\u001b[0;34m:\u001b[0m\u001b[0;34m\u001b[0m\u001b[0;34m\u001b[0m\u001b[0m\n\u001b[0;32m--> 720\u001b[0;31m         \u001b[0;32mraise\u001b[0m \u001b[0mValueError\u001b[0m\u001b[0;34m(\u001b[0m\u001b[0;34m\"Empty input is not supported.\"\u001b[0m\u001b[0;34m)\u001b[0m\u001b[0;34m\u001b[0m\u001b[0;34m\u001b[0m\u001b[0m\n\u001b[0m\u001b[1;32m    721\u001b[0m \u001b[0;34m\u001b[0m\u001b[0m\n\u001b[1;32m    722\u001b[0m     \u001b[0;31m# If k is not a single value, it should be compatible with data's shape\u001b[0m\u001b[0;34m\u001b[0m\u001b[0;34m\u001b[0m\u001b[0;34m\u001b[0m\u001b[0m\n",
      "\u001b[0;31mValueError\u001b[0m: Empty input is not supported."
     ]
    }
   ],
   "source": [
    "def scatterplotOfClusters(data, centroids, labels, cmap_name='gist_rainbow'):\n",
    "    plt.figure(figsize=(10,8))\n",
    "    plt.scatter(data[:,:1], data[:,1:2], s = 80, c = labels.reshpe(len(labels),1), cmap=cmap_name)\n",
    "    plt.scatter(centroids[:,:1], centroids[:,1:2], 80, marker='s', cmap=cmap_name, c=list(range(len(centroids))))\n",
    "plt.show()    \n",
    "data = loadFromTSP(df)\n",
    "centroids, labels = vq.kmeans2(data, 8, minit='points')\n",
    "scatterplotOfClusters(data, centroids, labels)"
   ]
  },
  {
   "cell_type": "code",
   "execution_count": 4,
   "id": "30632aba",
   "metadata": {},
   "outputs": [
    {
     "ename": "NameError",
     "evalue": "name 'sub_array' is not defined",
     "output_type": "error",
     "traceback": [
      "\u001b[0;31m---------------------------------------------------------------------------\u001b[0m",
      "\u001b[0;31mNameError\u001b[0m                                 Traceback (most recent call last)",
      "\u001b[0;32m<ipython-input-4-3c4d6948bdf2>\u001b[0m in \u001b[0;36m<module>\u001b[0;34m\u001b[0m\n\u001b[1;32m     10\u001b[0m \u001b[0;34m\u001b[0m\u001b[0m\n\u001b[1;32m     11\u001b[0m \u001b[0mplt\u001b[0m\u001b[0;34m.\u001b[0m\u001b[0mshow\u001b[0m\u001b[0;34m(\u001b[0m\u001b[0;34m)\u001b[0m\u001b[0;34m\u001b[0m\u001b[0;34m\u001b[0m\u001b[0m\n\u001b[0;32m---> 12\u001b[0;31m \u001b[0mdata\u001b[0m \u001b[0;34m=\u001b[0m  \u001b[0mloadFromTSP\u001b[0m\u001b[0;34m(\u001b[0m\u001b[0msub_array\u001b[0m\u001b[0;34m)\u001b[0m\u001b[0;34m\u001b[0m\u001b[0;34m\u001b[0m\u001b[0m\n\u001b[0m\u001b[1;32m     13\u001b[0m \u001b[0mcentroids\u001b[0m\u001b[0;34m,\u001b[0m \u001b[0mlabels\u001b[0m \u001b[0;34m=\u001b[0m \u001b[0mvq\u001b[0m\u001b[0;34m.\u001b[0m\u001b[0mkmeans2\u001b[0m \u001b[0;34m(\u001b[0m\u001b[0mdata\u001b[0m\u001b[0;34m,\u001b[0m \u001b[0;36m8\u001b[0m\u001b[0;34m,\u001b[0m \u001b[0mminit\u001b[0m \u001b[0;34m=\u001b[0m \u001b[0;34m'points'\u001b[0m\u001b[0;34m)\u001b[0m\u001b[0;34m\u001b[0m\u001b[0;34m\u001b[0m\u001b[0m\n\u001b[1;32m     14\u001b[0m \u001b[0mscatterplotOfClusters\u001b[0m\u001b[0;34m(\u001b[0m\u001b[0mdata\u001b[0m\u001b[0;34m,\u001b[0m \u001b[0mcentroids\u001b[0m\u001b[0;34m,\u001b[0m \u001b[0mlabels\u001b[0m\u001b[0;34m)\u001b[0m\u001b[0;34m\u001b[0m\u001b[0;34m\u001b[0m\u001b[0m\n",
      "\u001b[0;31mNameError\u001b[0m: name 'sub_array' is not defined"
     ]
    }
   ],
   "source": [
    "import scipy.cluster.vq as vq\n",
    "\n",
    "\n",
    "\n",
    "\n",
    "def scatterplotOfClusters(data, centroids, labels, cmap_name='gist_rainbow'):\n",
    "    plt.figure(figsize=(10,8))\n",
    "    plt.scatter(data[:,:1], data[:,1:2], s = 80, c = labels.reshpe(len(labels),1), cmap=cmap_name)\n",
    "    plt.scatter(centroids[:,:1], centroids[:,1:2], 80, marker='s', cmap=cmap_name, c=list(range(len(centroids))))\n",
    "    \n",
    "plt.show()\n",
    "data =  loadFromTSP(sub_array)\n",
    "centroids, labels = vq.kmeans2 (data, 8, minit = 'points')\n",
    "scatterplotOfClusters(data, centroids, labels)\n"
   ]
  },
  {
   "cell_type": "code",
   "execution_count": null,
   "id": "5f02d09d",
   "metadata": {},
   "outputs": [],
   "source": []
  },
  {
   "cell_type": "code",
   "execution_count": null,
   "id": "096dd481",
   "metadata": {},
   "outputs": [],
   "source": []
  }
 ],
 "metadata": {
  "kernelspec": {
   "display_name": "Python 3",
   "language": "python",
   "name": "python3"
  },
  "language_info": {
   "codemirror_mode": {
    "name": "ipython",
    "version": 3
   },
   "file_extension": ".py",
   "mimetype": "text/x-python",
   "name": "python",
   "nbconvert_exporter": "python",
   "pygments_lexer": "ipython3",
   "version": "3.8.8"
  }
 },
 "nbformat": 4,
 "nbformat_minor": 5
}
