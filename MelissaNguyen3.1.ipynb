{
 "cells": [
  {
   "cell_type": "code",
   "execution_count": 675,
   "id": "e8ec88dc",
   "metadata": {},
   "outputs": [],
   "source": [
    "%matplotlib inline\n",
    "import numpy as np\n",
    "import matplotlib.pyplot as plt\n",
    "import pandas as pd\n",
    "import csv\n",
    "import matplotlib.cm as cm\n",
    "import matplotlib.colors as colors"
   ]
  },
  {
   "cell_type": "markdown",
   "id": "552fa72d",
   "metadata": {},
   "source": [
    "* ```loadFromTSP(filename)```\n",
    "* ```scatterplotOfClusters(data, centroids, labels)```\n",
    "* ```plotWithinSS(avgWithinSS, **kwargs)```\n",
    "* ```plotMultipleRuns(data, k, bins=20, nbrRuns=200, **kwargs)```"
   ]
  },
  {
   "cell_type": "markdown",
   "id": "81bbd2c5",
   "metadata": {},
   "source": [
    "### Exercise 1"
   ]
  },
  {
   "cell_type": "markdown",
   "id": "a27f0789",
   "metadata": {},
   "source": [
    "The list of points appears after the keyword NODE_COORD_SECTION. Your first task is to write a function that inputs the name of a TSP file and returns a numpy array, of shape (nbrPoints, 2), of its points."
   ]
  },
  {
   "cell_type": "markdown",
   "id": "431019a0",
   "metadata": {},
   "source": [
    "att48.tsp"
   ]
  },
  {
   "cell_type": "code",
   "execution_count": 45,
   "id": "a5d60a5b",
   "metadata": {},
   "outputs": [],
   "source": [
    "import numpy as np\n",
    "def loadFromTSP(filename):\n",
    "    # \"\"\" Inputs the TSP file named by filename, and returns a (nbrPoints,2)\n",
    "    # numpy array of the data points.\"\"\"    \n",
    "    filename = input(\"Enter TSP file: \")\n",
    "    inputfile = open(filename, \"r\")\n",
    "    \n",
    "    print(\"Opening File\", filename, \"for reading\\n\" )\n",
    "    line = inputfile.readline()\n",
    "    df = pd.read_csv(inputfile, sep ='\\t', header=None)\n",
    "    \n",
    "    #print('Nbr of stuff:', data_array.size)\n",
    "    data_array = df[5:53]\n",
    "    \n",
    "    print('Nbr of data points:', data_array.size)\n",
    "    shape = data_array.shape\n",
    "    print(shape)\n",
    "    \n",
    "\n",
    "    \n",
    "   \n",
    "    print('\\nFirst five data points: '.format(len(data_array[:5])))\n",
    "    df.head(5)\n",
    "    \n",
    "    print(\"\\nCompleted reading the file \\n\", filename)\n",
    "    print(loadFromTSP)\n",
    "    loadFromTSP('att48.tsp')\n",
    "    type(filename)\n"
   ]
  },
  {
   "cell_type": "code",
   "execution_count": 677,
   "id": "43d0b541",
   "metadata": {},
   "outputs": [
    {
     "name": "stdout",
     "output_type": "stream",
     "text": [
      "[['NAME : att48']\n",
      " ['COMMENT : 48 capitals of the US (Padberg/Rinaldi)']\n",
      " ['TYPE : TSP']\n",
      " ['DIMENSION : 48']\n",
      " ['EDGE_WEIGHT_TYPE : ATT']\n",
      " ['NODE_COORD_SECTION']\n",
      " ['1 6734 1453']\n",
      " ['2 2233 10']\n",
      " ['3 5530 1424']\n",
      " ['4 401 841']\n",
      " ['5 3082 1644']\n",
      " ['6 7608 4458']\n",
      " ['7 7573 3716']\n",
      " ['8 7265 1268']\n",
      " ['9 6898 1885']\n",
      " ['10 1112 2049']\n",
      " ['11 5468 2606']\n",
      " ['12 5989 2873']\n",
      " ['13 4706 2674']\n",
      " ['14 4612 2035']\n",
      " ['15 6347 2683']\n",
      " ['16 6107 669']\n",
      " ['17 7611 5184']\n",
      " ['18 7462 3590']\n",
      " ['19 7732 4723']\n",
      " ['20 5900 3561']\n",
      " ['21 4483 3369']\n",
      " ['22 6101 1110']\n",
      " ['23 5199 2182']\n",
      " ['24 1633 2809']\n",
      " ['25 4307 2322']\n",
      " ['26 675 1006']\n",
      " ['27 7555 4819']\n",
      " ['28 7541 3981']\n",
      " ['29 3177 756']\n",
      " ['30 7352 4506']\n",
      " ['31 7545 2801']\n",
      " ['32 3245 3305']\n",
      " ['33 6426 3173']\n",
      " ['34 4608 1198']\n",
      " ['35 23 2216']\n",
      " ['36 7248 3779']\n",
      " ['37 7762 4595']\n",
      " ['38 7392 2244']\n",
      " ['39 3484 2829']\n",
      " ['40 6271 2135']\n",
      " ['41 4985 140']\n",
      " ['42 1916 1569']\n",
      " ['43 7280 4899']\n",
      " ['44 7509 3239']\n",
      " ['45 10 2676']\n",
      " ['46 6807 2993']\n",
      " ['47 5185 3258']\n",
      " ['48 3023 1942']\n",
      " ['EOF']]\n"
     ]
    }
   ],
   "source": [
    "\n",
    "\n",
    "import csv\n",
    "import numpy as np\n",
    "\n",
    "with open('att48.tsp', 'r') as f:\n",
    "    data = list(csv.reader(f, delimiter=\";\"))\n",
    "\n",
    "data = np.array(data)\n",
    "print(data)"
   ]
  },
  {
   "cell_type": "markdown",
   "id": "2f3de51e",
   "metadata": {},
   "source": [
    "Each data point, depicted as a disk, is assigned its own cluster, indicated by color. Also, each cluster's centroid is depicted as a square of the same color. The second part of this assignment is to write a function that takes a data set (i.e., a numpy array of points) and the (centroids,labels) tuple that results from running k-means on this data set, and produces scatterplots like those above above, where each cluster gets a distinct color, and each cluster's centroid is also depicted."
   ]
  },
  {
   "cell_type": "code",
   "execution_count": null,
   "id": "3229216f",
   "metadata": {},
   "outputs": [],
   "source": []
  },
  {
   "cell_type": "code",
   "execution_count": null,
   "id": "d85e919b",
   "metadata": {},
   "outputs": [],
   "source": []
  }
 ],
 "metadata": {
  "kernelspec": {
   "display_name": "Python 3",
   "language": "python",
   "name": "python3"
  },
  "language_info": {
   "codemirror_mode": {
    "name": "ipython",
    "version": 3
   },
   "file_extension": ".py",
   "mimetype": "text/x-python",
   "name": "python",
   "nbconvert_exporter": "python",
   "pygments_lexer": "ipython3",
   "version": "3.8.8"
  }
 },
 "nbformat": 4,
 "nbformat_minor": 5
}
