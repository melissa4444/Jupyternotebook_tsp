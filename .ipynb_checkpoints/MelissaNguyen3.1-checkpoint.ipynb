{
 "cells": [
  {
   "cell_type": "code",
   "execution_count": 39,
   "id": "e8ec88dc",
   "metadata": {},
   "outputs": [],
   "source": [
    "%matplotlib inline\n",
    "import numpy as np\n",
    "import matplotlib.pyplot as plt\n",
    "import pandas as pd\n",
    "import csv\n",
    "import matplotlib.cm as cm\n",
    "import matplotlib.colors as colors"
   ]
  },
  {
   "cell_type": "markdown",
   "id": "552fa72d",
   "metadata": {},
   "source": [
    "* ```loadFromTSP(filename)```\n",
    "* ```scatterplotOfClusters(data, centroids, labels)```\n",
    "* ```plotWithinSS(avgWithinSS, **kwargs)```\n",
    "* ```plotMultipleRuns(data, k, bins=20, nbrRuns=200, **kwargs)```"
   ]
  },
  {
   "cell_type": "markdown",
   "id": "81bbd2c5",
   "metadata": {},
   "source": [
    "### Exercise 1"
   ]
  },
  {
   "cell_type": "markdown",
   "id": "a27f0789",
   "metadata": {},
   "source": [
    "The list of points appears after the keyword NODE_COORD_SECTION. Your first task is to write a function that inputs the name of a TSP file and returns a numpy array, of shape (nbrPoints, 2), of its points."
   ]
  },
  {
   "cell_type": "markdown",
   "id": "431019a0",
   "metadata": {},
   "source": [
    "att48.tsp"
   ]
  },
  {
   "cell_type": "markdown",
   "id": "f96f9ef7",
   "metadata": {},
   "source": [
    "For example:\n",
    "\n",
    "```python\n",
    "data = loadFromTSP('data/att48.tsp')  \n",
    "print('Nbr of data points: {}'.format(len(data)))\n",
    "print('First five data points:\\n {}'.format(data[:5]))\n",
    "```\n",
    "\n",
    "```\n",
    "Nbr of data points: 48\n",
    "First five data points:\n",
    " [[ 6734.  1453.]\n",
    " [ 2233.    10.]\n",
    " [ 5530.  1424.]\n",
    " [  401.   841.]\n",
    " [ 3082.  1644.]]\n",
    " ```"
   ]
  },
  {
   "cell_type": "code",
   "execution_count": 9,
   "id": "0f7c2da5",
   "metadata": {},
   "outputs": [],
   "source": [
    "from IPython.display import Image, display\n",
    "\n",
    "datadir = 'data/'\n",
    "imagesdir = 'images/'\n",
    "\n",
    "def display_images(images, dir=imagesdir):\n",
    "    for image in images:\n",
    "        display(Image(dir + image))"
   ]
  },
  {
   "cell_type": "code",
   "execution_count": 57,
   "id": "39c3695b",
   "metadata": {},
   "outputs": [
    {
     "name": "stdout",
     "output_type": "stream",
     "text": [
      "Enter TSP file: att48.tsp\n",
      "Opening File att48.tsp for reading\n",
      "\n",
      "nbr of data points: 48\n",
      "first five:\n",
      " [[6734. 1453.]\n",
      " [2233.   10.]\n",
      " [5530. 1424.]\n",
      " [ 401.  841.]\n",
      " [3082. 1644.]]\n"
     ]
    }
   ],
   "source": [
    "#filename = 'att48.tsp'\n",
    "\n",
    "filename = input(\"Enter TSP file: \")\n",
    "inputfile = open(filename, \"r\")\n",
    "    \n",
    "print(\"Opening File\", filename, \"for reading\\n\" )\n",
    "line = inputfile.readline()\n",
    "\n",
    "def loadFromTSP(filename):\n",
    "    # \"\"\" Inputs the TSP file named by filename, and returns a (nbrPoints,2)\n",
    "    # numpy array of the data points.\"\"\" \n",
    "    return np.genfromtxt(filename, usecols = (1,2), delimiter = '', skip_header = 6, skip_footer=1)\n",
    "\n",
    "\n",
    "data = loadFromTSP (filename)\n",
    "print('nbr of data points: {}'.format(len(data)))\n",
    "print(\"first five:\\n {}\".format(data[:5]))\n"
   ]
  },
  {
   "cell_type": "code",
   "execution_count": 40,
   "id": "805150b7",
   "metadata": {
    "scrolled": false
   },
   "outputs": [],
   "source": [
    "import scipy.cluster.vq as vq"
   ]
  },
  {
   "cell_type": "markdown",
   "id": "90b9f571",
   "metadata": {},
   "source": [
    "### Exercise 2\n",
    "\n"
   ]
  },
  {
   "cell_type": "markdown",
   "id": "ee1f5c01",
   "metadata": {},
   "source": [
    "K-means is called like this:\n",
    "\n",
    "centroids, labels = vq.kmeans2(data, k, minit='points')"
   ]
  },
  {
   "cell_type": "code",
   "execution_count": 19,
   "id": "583345fc",
   "metadata": {},
   "outputs": [
    {
     "data": {
      "text/plain": [
       "array([[ 0.,  0.],\n",
       "       [ 0.,  1.],\n",
       "       [ 1.,  0.],\n",
       "       [ 1.,  1.],\n",
       "       [10., 10.],\n",
       "       [10., 11.],\n",
       "       [11., 10.],\n",
       "       [11., 11.]], dtype=float32)"
      ]
     },
     "execution_count": 19,
     "metadata": {},
     "output_type": "execute_result"
    }
   ],
   "source": [
    "#example\n",
    "aa = np.array([0,0,0,1,1,0,1,1], dtype=np.float32).reshape(4,2)\n",
    "ab = np.concatenate((aa, aa+10))\n",
    "ab"
   ]
  },
  {
   "cell_type": "code",
   "execution_count": 20,
   "id": "deaa1641",
   "metadata": {},
   "outputs": [
    {
     "data": {
      "text/plain": [
       "(array([[10.5, 10.5],\n",
       "        [ 0.5,  0.5]], dtype=float32),\n",
       " array([1, 1, 1, 1, 0, 0, 0, 0], dtype=int32))"
      ]
     },
     "execution_count": 20,
     "metadata": {},
     "output_type": "execute_result"
    }
   ],
   "source": [
    "centroids, labels = vq.kmeans2(ab, 2, minit='points')\n",
    "centroids, labels"
   ]
  },
  {
   "cell_type": "markdown",
   "id": "d83dc1fb",
   "metadata": {},
   "source": [
    "The output tuple (centroids,labels) are interpreted together. Here it says that the first four points of the array belong to cluster 0 whose centroid is (0.5, 0.5), and the last four points belong to cluster 1 whose centroid is (10.5, 10.5). This is of course optimal for this simple problem instance but optimality is not guaranteed by k-means in general; k-means is just a heuristic.\n",
    "\n",
    "Here are the images that result from a run of k-means on att48.tsp, for the values k=3 (i.e., 3 clusters) and k=5."
   ]
  },
  {
   "cell_type": "markdown",
   "id": "e893e15b",
   "metadata": {},
   "source": [
    "The second part of this assignment is to write a function that takes a data set (i.e., a numpy array of points) and the (centroids,labels) tuple that results from running k-means on this data set, and produces scatterplots like those above above, where each cluster gets a distinct color, and each cluster's centroid is also depicted."
   ]
  },
  {
   "cell_type": "code",
   "execution_count": 58,
   "id": "95cac587",
   "metadata": {},
   "outputs": [
    {
     "data": {
      "image/png": "[encoded data removed]",
      "text/plain": [
       "<Figure size 720x576 with 1 Axes>"
      ]
     },
     "metadata": {
      "needs_background": "light"
     },
     "output_type": "display_data"
    }
   ],
   "source": [
    "#filename = loadFromTSP(\"att48.tsp\")\n",
    "def scatterplotOfClusters(data, centroids, labels, cmap_name='gist_rainbow'):\n",
    "    \"\"\" Takes a numpy array of data points, an array of k centroids,\n",
    "    and an array of len(data) labels assigning points to centroids (clusters),\n",
    "    and produces a scatterplot. \n",
    "    aHere, we have:\n",
    "    centroids, labels = vq.kmeans2(data, k, minit='points')\n",
    "    to produce a list of k centroids and assignments to the datapoints.\n",
    "    Colors are drawn from cmap_name by interpolation.\"\"\"\n",
    "    plt.figure(figsize = (10, 8))\n",
    "    plt.scatter(data[:, :1], data[:, 1: 2], s = 80, c = labels.reshape(len(labels), 1), cmap = cmap_name)\n",
    "    plt.scatter(centroids[:, :1], centroids[:, 1: 2], s = 80, marker = 's', cmap = cmap_name, c = list(range(len(centroids))))\n",
    "    \n",
    "#print(data)\n",
    "plt.show()\n",
    "data = loadFromTSP(filename)\n",
    "centroid, labels = vq.kmeans2 (data, 8, minit = 'points')\n",
    "scatterplotOfClusters(data, centroids, labels)"
   ]
  },
  {
   "cell_type": "markdown",
   "id": "c9b5b56e",
   "metadata": {},
   "source": [
    "For example:\n",
    "\n",
    "```python\n",
    "data = loadFromTSP('data/att48.tsp')  \n",
    "centroids, labels = vq.kmeans2(data, 8, minit='points')\n",
    "scatterplotOfClusters(data, centroids, labels)\n",
    "```\n",
    "\n"
   ]
  },
  {
   "cell_type": "markdown",
   "id": "689dfed9",
   "metadata": {},
   "source": [
    "The larger the value of k, the more clusters there are in the partition, and the tighter these clusters are. In effect, with more clusters, the centroids are better representatives of the dataset as a whole. There are a number of ways of capturing the quality of a partition. Here is one way. \n",
    "\n",
    "We define the average within-cluster sum of squared distances, to be the average of the sum of squared distances between the cluster's points and its centroid. \n",
    "\n",
    "Let's refer to this as WCSS(C) for cluster C. Then, we'll take the partition quality to be the average over the WCSS(C) as C ranges over the partition's clusters C.\n",
    "\n",
    "We can use the following function to compute the quality of a partition for the dataset data, where the partition is represented by the arguments centroids and labels.\n"
   ]
  },
  {
   "cell_type": "code",
   "execution_count": 61,
   "id": "13e86474",
   "metadata": {},
   "outputs": [],
   "source": [
    "# partition is represented by the arguments centroids and labels.\n",
    "def avgWithinSS(data, centroids, labels):\n",
    "    k = len(centroids)\n",
    "    res = 0.0\n",
    "    for c in range(k):\n",
    "        flags = labels == c\n",
    "        pointsInC = data[flags]\n",
    "        def d2(p):\n",
    "            delta = p - centroids[c]\n",
    "            return sum(delta*delta)\n",
    "        dists = np.apply_along_axis(d2, axis=1, arr=pointsInC)\n",
    "        res += sum(dists) / len(pointsInC)\n",
    "    return res / k\n",
    "# returns "
   ]
  },
  {
   "cell_type": "markdown",
   "id": "d8c8d38c",
   "metadata": {},
   "source": [
    "When we run *avgWithinSS*, we obtain a partition quality value for *k*=len(centroids). \n",
    "\n",
    "Let's call this value *PQ(k)*. We can use the following function to generate an array of *PQ(k)* values as *k* ranges from 1 through *kmax*, where we choose *kmax* to be some integer no greater than the number of data points.\n"
   ]
  },
  {
   "cell_type": "code",
   "execution_count": 70,
   "id": "920471fe",
   "metadata": {},
   "outputs": [],
   "source": [
    "def avgWithinSSOverK(data, kmax):\n",
    "    def f(k):\n",
    "        return vq.kmeans2(data, k, minit='points')\n",
    "    return [avgWithinSS(data, *f(k)) for k in range(1, kmax+1)]\n"
   ]
  },
  {
   "cell_type": "markdown",
   "id": "a2a08e57",
   "metadata": {},
   "source": [
    "Here we plot the partition quality values as *k* ranges from 1 through 24 for att48.tsp. Notice that the quality generally improves as *k* increases, but not always. Note k-means is run once for each value of *k*. Remember, for each value of *k*, k-means runs from a random set of *k* points. Sometimes it will converge to an excellent solution, and other times not so great a solution. On average, partition quality improves with greater *k*, but for particular runs of k-means this may not always be so."
   ]
  },
  {
   "cell_type": "markdown",
   "id": "3661e157",
   "metadata": {},
   "source": [
    "### Exercise 3\n"
   ]
  },
  {
   "cell_type": "markdown",
   "id": "6be0fa5a",
   "metadata": {},
   "source": [
    "The next part of this assignment is to write code to produce the sort of graph we have above. The graph above was produced by calling *plotWithinSS(avgWithinSSOverK(data, 24))* where *data* is the \n",
    "numpy array of data points from att48.tsp. "
   ]
  },
  {
   "cell_type": "code",
   "execution_count": 71,
   "id": "bce2b0c1",
   "metadata": {},
   "outputs": [
    {
     "name": "stdout",
     "output_type": "stream",
     "text": [
      "[[7362.28571429 3194.57142857]\n",
      " [4139.5        2755.66666667]\n",
      " [5848.125      2808.875     ]\n",
      " [7599.         4452.6       ]\n",
      " [6028.5        1143.375     ]\n",
      " [ 642.33333333 1932.83333333]\n",
      " [7482.         4967.33333333]\n",
      " [2686.2        1184.2       ]]\n"
     ]
    }
   ],
   "source": [
    "print(centroids)"
   ]
  },
  {
   "cell_type": "code",
   "execution_count": 83,
   "id": "c01cbee1",
   "metadata": {},
   "outputs": [],
   "source": [
    "import matplotlib.pyplot as plt"
   ]
  },
  {
   "cell_type": "code",
   "execution_count": 89,
   "id": "001478fa",
   "metadata": {},
   "outputs": [
    {
     "ename": "TypeError",
     "evalue": "avgWithinSSOverK() missing 1 required positional argument: 'kmax'",
     "output_type": "error",
     "traceback": [
      "\u001b[0;31m---------------------------------------------------------------------------\u001b[0m",
      "\u001b[0;31mTypeError\u001b[0m                                 Traceback (most recent call last)",
      "\u001b[0;32m<ipython-input-89-2fa3fe676996>\u001b[0m in \u001b[0;36m<module>\u001b[0;34m\u001b[0m\n\u001b[1;32m     17\u001b[0m \u001b[0;34m\u001b[0m\u001b[0m\n\u001b[1;32m     18\u001b[0m \u001b[0mplt\u001b[0m\u001b[0;34m.\u001b[0m\u001b[0mshow\u001b[0m\u001b[0;34m\u001b[0m\u001b[0;34m\u001b[0m\u001b[0m\n\u001b[0;32m---> 19\u001b[0;31m \u001b[0mavgWithinSS\u001b[0m \u001b[0;34m=\u001b[0m \u001b[0mavgWithinSSOverK\u001b[0m\u001b[0;34m(\u001b[0m\u001b[0mdata\u001b[0m\u001b[0;34m)\u001b[0m\u001b[0;34m\u001b[0m\u001b[0;34m\u001b[0m\u001b[0m\n\u001b[0m\u001b[1;32m     20\u001b[0m \u001b[0;34m\u001b[0m\u001b[0m\n\u001b[1;32m     21\u001b[0m \u001b[0;34m\u001b[0m\u001b[0m\n",
      "\u001b[0;31mTypeError\u001b[0m: avgWithinSSOverK() missing 1 required positional argument: 'kmax'"
     ]
    },
    {
     "data": {
      "image/png": "[encoded data removed]",
      "text/plain": [
       "<Figure size 432x288 with 1 Axes>"
      ]
     },
     "metadata": {
      "needs_background": "light"
     },
     "output_type": "display_data"
    }
   ],
   "source": [
    "#PQ(k) = array -> k=(1-max)**********\n",
    "#k = length of centroid \n",
    "#call vq(k) - data,k = avgwithinssoverk\n",
    "#data=filename\n",
    "#plotWithinSS(avgWithinSSOverK(data, 24))\n",
    "#avgwithinss = (data, centroids, labels)\n",
    "\n",
    "def plotWithinSS(avgWithinSS, **kwargs):\n",
    "    \"\"\" Takes an array of partition quality values, as produced by the calls\n",
    "          avgWithinSSOverK(data, kmax)\n",
    "        and produces a line plot of partition size by partition quality\"\"\"\n",
    "    \n",
    "\n",
    "\n",
    "\n",
    "\n",
    "\n",
    "#id the optimal number of clusters as the index corresponding\n",
    "#to the larger gap between values\n",
    "\n",
    "\n",
    "\n",
    "    \n",
    "#avgWithinSSOverK(data, kmax) = ofsize = np array-> filename "
   ]
  },
  {
   "cell_type": "markdown",
   "id": "a55f242a",
   "metadata": {},
   "source": [
    "Here is the last part of this assignment. We recognize that the solutions produced by k-means are sensitive to the initial set of centers. Each time we run *vq.kmeans2(data, k, minit='points')* for the same *data* and value of *k*, we may obtain different results. This is because the *k* points used for the initial centers are chosen randomly. Here is the histogram of 2000 runs of k-means on *att48.tsp*, for *k*=8. The x-axis shows the *avgWithinSS*. Each bar corresponds to a bin indicating the number of runs whose *avgWithinSS* falls within the bin."
   ]
  },
  {
   "cell_type": "markdown",
   "id": "e90f5ca0",
   "metadata": {},
   "source": [
    "### Exercise 4"
   ]
  },
  {
   "cell_type": "markdown",
   "id": "04899921",
   "metadata": {},
   "source": [
    "The histogram above was generated with this call:  *plotMultipleRuns(data, 8, 40, 2000, facecolor='green')*.  For this part of the assignment, write this function.\n"
   ]
  },
  {
   "cell_type": "code",
   "execution_count": 110,
   "id": "bcb18f7c",
   "metadata": {},
   "outputs": [
    {
     "ename": "SyntaxError",
     "evalue": "invalid syntax (<ipython-input-110-29bf67a10209>, line 9)",
     "output_type": "error",
     "traceback": [
      "\u001b[0;36m  File \u001b[0;32m\"<ipython-input-110-29bf67a10209>\"\u001b[0;36m, line \u001b[0;32m9\u001b[0m\n\u001b[0;31m    except:\u001b[0m\n\u001b[0m    ^\u001b[0m\n\u001b[0;31mSyntaxError\u001b[0m\u001b[0;31m:\u001b[0m invalid syntax\n"
     ]
    }
   ],
   "source": [
    "def plotMultipleRuns(data, k, bins=20, nbrRuns=200, **kwargs):\n",
    "  \"\"\" Create a histogram for data by running vq.kmeans2(data, k, minit='points')\n",
    "      nbrRuns times for given k. **kwargs gets passed onto the histogram function.\"\"\"\n",
    "hlist = []\n"
   ]
  },
  {
   "cell_type": "markdown",
   "id": "b5594a25",
   "metadata": {},
   "source": [
    "It's worth mentioning that when we run k-means with input *k*, we sometimes obtain a partition with strictly fewer than *k* clusters. In generating the partitions in plotMultipleRuns, you might want to omit such clusters. Look into the use of the *missing* parameter of the *vq.kmeans2* function"
   ]
  },
  {
   "cell_type": "code",
   "execution_count": null,
   "id": "4d522fc6",
   "metadata": {},
   "outputs": [],
   "source": []
  }
 ],
 "metadata": {
  "kernelspec": {
   "display_name": "Python 3",
   "language": "python",
   "name": "python3"
  },
  "language_info": {
   "codemirror_mode": {
    "name": "ipython",
    "version": 3
   },
   "file_extension": ".py",
   "mimetype": "text/x-python",
   "name": "python",
   "nbconvert_exporter": "python",
   "pygments_lexer": "ipython3",
   "version": "3.8.8"
  }
 },
 "nbformat": 4,
 "nbformat_minor": 5
}
